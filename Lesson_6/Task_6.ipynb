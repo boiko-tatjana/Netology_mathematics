{
 "cells": [
  {
   "cell_type": "code",
   "execution_count": 24,
   "metadata": {},
   "outputs": [],
   "source": [
    "import numpy as np\n",
    "from scipy.optimize import differential_evolution\n",
    "import pandas as pd\n",
    "import matplotlib.pyplot as plt "
   ]
  },
  {
   "cell_type": "markdown",
   "metadata": {},
   "source": [
    "### Задание"
   ]
  },
  {
   "cell_type": "markdown",
   "metadata": {},
   "source": [
    "При фиксированном seed=42 поразбирайтесь и поэкспериментируйте с параметрами алгоритма дифференциальной эволюции: strategy, popsize, tol, mutation, recombination и updating.   \n",
    "\n",
    "Постройте графики количества итераций оптимизации функции ackley от значения параметра."
   ]
  },
  {
   "cell_type": "code",
   "execution_count": 2,
   "metadata": {},
   "outputs": [
    {
     "data": {
      "text/plain": [
       "     fun: 4.440892098500626e-16\n",
       " message: 'Optimization terminated successfully.'\n",
       "    nfev: 2793\n",
       "     nit: 90\n",
       " success: True\n",
       "       x: array([0., 0.])"
      ]
     },
     "execution_count": 2,
     "metadata": {},
     "output_type": "execute_result"
    }
   ],
   "source": [
    "def ackley(x):\n",
    "    arg1 = -0.2 * np.sqrt(0.5 * (x[0] ** 2 + x[1] ** 2))\n",
    "    arg2 = 0.5 * (np.cos(2. * np.pi * x[0]) + np.cos(2. * np.pi * x[1]))\n",
    "    return -20. * np.exp(arg1) - np.exp(arg2) + 20. + np.e\n",
    "\n",
    "bounds = [(-10, 10), (-10, 10)]\n",
    "result = differential_evolution(ackley, bounds, seed=42)\n",
    "result"
   ]
  },
  {
   "cell_type": "markdown",
   "metadata": {},
   "source": [
    "### 1. Параметр strategy:"
   ]
  },
  {
   "cell_type": "code",
   "execution_count": 117,
   "metadata": {},
   "outputs": [],
   "source": [
    "strategy_data = {'number' : range(1,13),\n",
    "                 'strategy': ['best1bin', 'best1exp', 'rand1exp', 'randtobest1exp', 'currenttobest1exp',\n",
    "                     'best2exp', 'rand2exp', 'randtobest1bin', 'currenttobest1bin', 'best2bin',\n",
    "                     'rand2bin', 'rand1bin']}\n",
    "strategy_data = pd.DataFrame(strategy_data)"
   ]
  },
  {
   "cell_type": "code",
   "execution_count": 118,
   "metadata": {},
   "outputs": [
    {
     "name": "stdout",
     "output_type": "stream",
     "text": [
      "Wall time: 11.6 s\n"
     ]
    }
   ],
   "source": [
    "%%time\n",
    "strategy_success = []\n",
    "strategy_nit = []\n",
    "strategy_error = []\n",
    "for row in strategy_data.strategy:\n",
    "    strategy = row\n",
    "    result = differential_evolution(ackley, bounds, seed=42, strategy = strategy)\n",
    "    strategy_success.append(result.success)\n",
    "    strategy_nit.append(result.nit)\n",
    "    strategy_error.append((result.x[0])**2 + (result.x[1])**2)"
   ]
  },
  {
   "cell_type": "code",
   "execution_count": 119,
   "metadata": {},
   "outputs": [],
   "source": [
    "strategy_success = pd.DataFrame(strategy_success, columns = ['strategy_success'])\n",
    "strategy_nit = pd.DataFrame(strategy_nit, columns = ['strategy_nit'])\n",
    "strategy_error = pd.DataFrame(strategy_error, columns = ['strategy_error'])\n",
    "# Объединение данных в один dataframe\n",
    "strategy_data = strategy_data.join(strategy_success)\n",
    "strategy_data = strategy_data.join(strategy_nit)\n",
    "strategy_data = strategy_data.join(strategy_error)"
   ]
  },
  {
   "cell_type": "code",
   "execution_count": 120,
   "metadata": {},
   "outputs": [
    {
     "data": {
      "text/html": [
       "<div>\n",
       "<style scoped>\n",
       "    .dataframe tbody tr th:only-of-type {\n",
       "        vertical-align: middle;\n",
       "    }\n",
       "\n",
       "    .dataframe tbody tr th {\n",
       "        vertical-align: top;\n",
       "    }\n",
       "\n",
       "    .dataframe thead th {\n",
       "        text-align: right;\n",
       "    }\n",
       "</style>\n",
       "<table border=\"1\" class=\"dataframe\">\n",
       "  <thead>\n",
       "    <tr style=\"text-align: right;\">\n",
       "      <th></th>\n",
       "      <th>number</th>\n",
       "      <th>strategy</th>\n",
       "      <th>strategy_success</th>\n",
       "      <th>strategy_nit</th>\n",
       "      <th>strategy_error</th>\n",
       "    </tr>\n",
       "  </thead>\n",
       "  <tbody>\n",
       "    <tr>\n",
       "      <th>0</th>\n",
       "      <td>1</td>\n",
       "      <td>best1bin</td>\n",
       "      <td>True</td>\n",
       "      <td>90</td>\n",
       "      <td>0.0</td>\n",
       "    </tr>\n",
       "    <tr>\n",
       "      <th>1</th>\n",
       "      <td>2</td>\n",
       "      <td>best1exp</td>\n",
       "      <td>True</td>\n",
       "      <td>140</td>\n",
       "      <td>0.0</td>\n",
       "    </tr>\n",
       "    <tr>\n",
       "      <th>2</th>\n",
       "      <td>3</td>\n",
       "      <td>rand1exp</td>\n",
       "      <td>True</td>\n",
       "      <td>241</td>\n",
       "      <td>0.0</td>\n",
       "    </tr>\n",
       "    <tr>\n",
       "      <th>3</th>\n",
       "      <td>4</td>\n",
       "      <td>randtobest1exp</td>\n",
       "      <td>True</td>\n",
       "      <td>160</td>\n",
       "      <td>0.0</td>\n",
       "    </tr>\n",
       "    <tr>\n",
       "      <th>4</th>\n",
       "      <td>5</td>\n",
       "      <td>currenttobest1exp</td>\n",
       "      <td>False</td>\n",
       "      <td>1000</td>\n",
       "      <td>0.0</td>\n",
       "    </tr>\n",
       "    <tr>\n",
       "      <th>5</th>\n",
       "      <td>6</td>\n",
       "      <td>best2exp</td>\n",
       "      <td>True</td>\n",
       "      <td>244</td>\n",
       "      <td>0.0</td>\n",
       "    </tr>\n",
       "    <tr>\n",
       "      <th>6</th>\n",
       "      <td>7</td>\n",
       "      <td>rand2exp</td>\n",
       "      <td>True</td>\n",
       "      <td>363</td>\n",
       "      <td>0.0</td>\n",
       "    </tr>\n",
       "    <tr>\n",
       "      <th>7</th>\n",
       "      <td>8</td>\n",
       "      <td>randtobest1bin</td>\n",
       "      <td>True</td>\n",
       "      <td>101</td>\n",
       "      <td>0.0</td>\n",
       "    </tr>\n",
       "    <tr>\n",
       "      <th>8</th>\n",
       "      <td>9</td>\n",
       "      <td>currenttobest1bin</td>\n",
       "      <td>False</td>\n",
       "      <td>1000</td>\n",
       "      <td>0.0</td>\n",
       "    </tr>\n",
       "    <tr>\n",
       "      <th>9</th>\n",
       "      <td>10</td>\n",
       "      <td>best2bin</td>\n",
       "      <td>True</td>\n",
       "      <td>166</td>\n",
       "      <td>0.0</td>\n",
       "    </tr>\n",
       "    <tr>\n",
       "      <th>10</th>\n",
       "      <td>11</td>\n",
       "      <td>rand2bin</td>\n",
       "      <td>True</td>\n",
       "      <td>232</td>\n",
       "      <td>0.0</td>\n",
       "    </tr>\n",
       "    <tr>\n",
       "      <th>11</th>\n",
       "      <td>12</td>\n",
       "      <td>rand1bin</td>\n",
       "      <td>True</td>\n",
       "      <td>168</td>\n",
       "      <td>0.0</td>\n",
       "    </tr>\n",
       "  </tbody>\n",
       "</table>\n",
       "</div>"
      ],
      "text/plain": [
       "    number           strategy  strategy_success  strategy_nit  strategy_error\n",
       "0        1           best1bin              True            90             0.0\n",
       "1        2           best1exp              True           140             0.0\n",
       "2        3           rand1exp              True           241             0.0\n",
       "3        4     randtobest1exp              True           160             0.0\n",
       "4        5  currenttobest1exp             False          1000             0.0\n",
       "5        6           best2exp              True           244             0.0\n",
       "6        7           rand2exp              True           363             0.0\n",
       "7        8     randtobest1bin              True           101             0.0\n",
       "8        9  currenttobest1bin             False          1000             0.0\n",
       "9       10           best2bin              True           166             0.0\n",
       "10      11           rand2bin              True           232             0.0\n",
       "11      12           rand1bin              True           168             0.0"
      ]
     },
     "execution_count": 120,
     "metadata": {},
     "output_type": "execute_result"
    }
   ],
   "source": [
    "strategy_data"
   ]
  },
  {
   "cell_type": "code",
   "execution_count": 33,
   "metadata": {},
   "outputs": [
    {
     "data": {
      "image/png": "[encoded data removed]",
      "text/plain": [
       "<Figure size 432x288 with 1 Axes>"
      ]
     },
     "metadata": {
      "needs_background": "light"
     },
     "output_type": "display_data"
    }
   ],
   "source": [
    "plt.plot(strategy_data.number, strategy_data.strategy_nit, 'm-*')\n",
    "plt.xlabel('number')\n",
    "plt.ylabel('strategy_nit')\n",
    "plt.grid()"
   ]
  },
  {
   "cell_type": "markdown",
   "metadata": {},
   "source": [
    "Всего доступно 12 стратегий. Наименьшее количество итераций (90) достигается при strategy = 'best1bin'. При этом для 2-х стратегий 'currenttobest1exp' и 'currenttobest1bin' алгоритм не находит минимум функции."
   ]
  },
  {
   "cell_type": "markdown",
   "metadata": {},
   "source": [
    "### 2. Параметр popsize:"
   ]
  },
  {
   "cell_type": "code",
   "execution_count": 121,
   "metadata": {},
   "outputs": [],
   "source": [
    "popsize_data = {'popsize' : range(1, 21)}\n",
    "popsize_data = pd.DataFrame(popsize_data)"
   ]
  },
  {
   "cell_type": "code",
   "execution_count": 122,
   "metadata": {},
   "outputs": [
    {
     "name": "stdout",
     "output_type": "stream",
     "text": [
      "Wall time: 3.25 s\n"
     ]
    }
   ],
   "source": [
    "%%time\n",
    "popsize_success = []\n",
    "popsize_nit = []\n",
    "popsize_error = []\n",
    "for row in popsize_data.popsize:\n",
    "    popsize = row\n",
    "    result = differential_evolution(ackley, bounds, seed=42, popsize = popsize)\n",
    "    popsize_success.append(result.success)\n",
    "    popsize_nit.append(result.nit)\n",
    "    popsize_error.append((result.x[0])**2 + (result.x[1])**2)"
   ]
  },
  {
   "cell_type": "code",
   "execution_count": 123,
   "metadata": {},
   "outputs": [],
   "source": [
    "popsize_success = pd.DataFrame(popsize_success, columns = ['popsize_success'])\n",
    "popsize_nit = pd.DataFrame(popsize_nit, columns = ['popsize_nit'])\n",
    "popsize_error = pd.DataFrame(popsize_error, columns = ['popsize_error'])\n",
    "# Объединение данных в один dataframe\n",
    "popsize_data = popsize_data.join(popsize_success)\n",
    "popsize_data = popsize_data.join(popsize_nit)\n",
    "popsize_data = popsize_data.join(popsize_error)"
   ]
  },
  {
   "cell_type": "code",
   "execution_count": 124,
   "metadata": {},
   "outputs": [
    {
     "data": {
      "text/html": [
       "<div>\n",
       "<style scoped>\n",
       "    .dataframe tbody tr th:only-of-type {\n",
       "        vertical-align: middle;\n",
       "    }\n",
       "\n",
       "    .dataframe tbody tr th {\n",
       "        vertical-align: top;\n",
       "    }\n",
       "\n",
       "    .dataframe thead th {\n",
       "        text-align: right;\n",
       "    }\n",
       "</style>\n",
       "<table border=\"1\" class=\"dataframe\">\n",
       "  <thead>\n",
       "    <tr style=\"text-align: right;\">\n",
       "      <th></th>\n",
       "      <th>popsize</th>\n",
       "      <th>popsize_success</th>\n",
       "      <th>popsize_nit</th>\n",
       "      <th>popsize_error</th>\n",
       "    </tr>\n",
       "  </thead>\n",
       "  <tbody>\n",
       "    <tr>\n",
       "      <th>0</th>\n",
       "      <td>1</td>\n",
       "      <td>True</td>\n",
       "      <td>7</td>\n",
       "      <td>9.066211e-01</td>\n",
       "    </tr>\n",
       "    <tr>\n",
       "      <th>1</th>\n",
       "      <td>2</td>\n",
       "      <td>True</td>\n",
       "      <td>7</td>\n",
       "      <td>9.066211e-01</td>\n",
       "    </tr>\n",
       "    <tr>\n",
       "      <th>2</th>\n",
       "      <td>3</td>\n",
       "      <td>True</td>\n",
       "      <td>29</td>\n",
       "      <td>4.990211e-08</td>\n",
       "    </tr>\n",
       "    <tr>\n",
       "      <th>3</th>\n",
       "      <td>4</td>\n",
       "      <td>True</td>\n",
       "      <td>39</td>\n",
       "      <td>2.496773e-11</td>\n",
       "    </tr>\n",
       "    <tr>\n",
       "      <th>4</th>\n",
       "      <td>5</td>\n",
       "      <td>True</td>\n",
       "      <td>100</td>\n",
       "      <td>0.000000e+00</td>\n",
       "    </tr>\n",
       "    <tr>\n",
       "      <th>5</th>\n",
       "      <td>6</td>\n",
       "      <td>True</td>\n",
       "      <td>99</td>\n",
       "      <td>0.000000e+00</td>\n",
       "    </tr>\n",
       "    <tr>\n",
       "      <th>6</th>\n",
       "      <td>7</td>\n",
       "      <td>True</td>\n",
       "      <td>87</td>\n",
       "      <td>0.000000e+00</td>\n",
       "    </tr>\n",
       "    <tr>\n",
       "      <th>7</th>\n",
       "      <td>8</td>\n",
       "      <td>True</td>\n",
       "      <td>97</td>\n",
       "      <td>0.000000e+00</td>\n",
       "    </tr>\n",
       "    <tr>\n",
       "      <th>8</th>\n",
       "      <td>9</td>\n",
       "      <td>True</td>\n",
       "      <td>101</td>\n",
       "      <td>0.000000e+00</td>\n",
       "    </tr>\n",
       "    <tr>\n",
       "      <th>9</th>\n",
       "      <td>10</td>\n",
       "      <td>True</td>\n",
       "      <td>97</td>\n",
       "      <td>0.000000e+00</td>\n",
       "    </tr>\n",
       "  </tbody>\n",
       "</table>\n",
       "</div>"
      ],
      "text/plain": [
       "   popsize  popsize_success  popsize_nit  popsize_error\n",
       "0        1             True            7   9.066211e-01\n",
       "1        2             True            7   9.066211e-01\n",
       "2        3             True           29   4.990211e-08\n",
       "3        4             True           39   2.496773e-11\n",
       "4        5             True          100   0.000000e+00\n",
       "5        6             True           99   0.000000e+00\n",
       "6        7             True           87   0.000000e+00\n",
       "7        8             True           97   0.000000e+00\n",
       "8        9             True          101   0.000000e+00\n",
       "9       10             True           97   0.000000e+00"
      ]
     },
     "execution_count": 124,
     "metadata": {},
     "output_type": "execute_result"
    }
   ],
   "source": [
    "popsize_data.head(10)"
   ]
  },
  {
   "cell_type": "code",
   "execution_count": 126,
   "metadata": {},
   "outputs": [
    {
     "data": {
      "image/png": "[encoded data removed]",
      "text/plain": [
       "<Figure size 432x288 with 1 Axes>"
      ]
     },
     "metadata": {
      "needs_background": "light"
     },
     "output_type": "display_data"
    }
   ],
   "source": [
    "plt.plot(popsize_data.popsize, popsize_data.popsize_nit, 'y-*')\n",
    "plt.xlabel('popsize')\n",
    "plt.ylabel('popsize_nit')\n",
    "plt.grid()"
   ]
  },
  {
   "cell_type": "code",
   "execution_count": 127,
   "metadata": {},
   "outputs": [
    {
     "data": {
      "image/png": "[encoded data removed]",
      "text/plain": [
       "<Figure size 432x288 with 1 Axes>"
      ]
     },
     "metadata": {
      "needs_background": "light"
     },
     "output_type": "display_data"
    }
   ],
   "source": [
    "plt.plot(popsize_data.popsize, popsize_data.popsize_error, 'g-*')\n",
    "plt.xlabel('popsize')\n",
    "plt.ylabel('popsize_error')\n",
    "plt.grid()"
   ]
  },
  {
   "cell_type": "markdown",
   "metadata": {},
   "source": [
    "popsize - множитель для установки размера популяции, целое число. Для значения множителя 1 и 2 достигается минимальное значение количества итераций, а затем происходит их рост, и начиная с 5 происходят колебания количества итераций в диапазоне от 80 до 100.\n",
    "Следует отметить, что значения параметра 1 и 2 велико значение ошибки. Следовательно, целесообразно брать popsize = 3."
   ]
  },
  {
   "cell_type": "markdown",
   "metadata": {},
   "source": [
    "### 3. Параметр tol:"
   ]
  },
  {
   "cell_type": "code",
   "execution_count": 128,
   "metadata": {},
   "outputs": [],
   "source": [
    "tol_data = {'number' : range(1, 9),\n",
    "            'tol': [10**(-6), 10**(-5), 10**(-4), 10**(-3), 10**(-2), 10**(-1), 10**(0), 10**(1)]}\n",
    "tol_data = pd.DataFrame(tol_data)"
   ]
  },
  {
   "cell_type": "code",
   "execution_count": 129,
   "metadata": {},
   "outputs": [
    {
     "name": "stdout",
     "output_type": "stream",
     "text": [
      "Wall time: 1.35 s\n"
     ]
    }
   ],
   "source": [
    "%%time\n",
    "tol_success = []\n",
    "tol_nit = []\n",
    "tol_error = []\n",
    "for row in tol_data.tol:\n",
    "    tol = row\n",
    "    result = differential_evolution(ackley, bounds, seed=42, tol = tol)\n",
    "    tol_success.append(result.success)\n",
    "    tol_nit.append(result.nit)\n",
    "    tol_error.append((result.x[0])**2 + (result.x[1])**2)"
   ]
  },
  {
   "cell_type": "code",
   "execution_count": 130,
   "metadata": {},
   "outputs": [],
   "source": [
    "tol_success = pd.DataFrame(tol_success, columns = ['tol_success'])\n",
    "tol_nit = pd.DataFrame(tol_nit, columns = ['tol_nit'])\n",
    "tol_error = pd.DataFrame(tol_error, columns = ['tol_error'])\n",
    "# Объединение данных в один dataframe\n",
    "tol_data = tol_data.join(tol_success)\n",
    "tol_data = tol_data.join(tol_nit)\n",
    "tol_data = tol_data.join(tol_error)"
   ]
  },
  {
   "cell_type": "code",
   "execution_count": 131,
   "metadata": {},
   "outputs": [
    {
     "data": {
      "text/html": [
       "<div>\n",
       "<style scoped>\n",
       "    .dataframe tbody tr th:only-of-type {\n",
       "        vertical-align: middle;\n",
       "    }\n",
       "\n",
       "    .dataframe tbody tr th {\n",
       "        vertical-align: top;\n",
       "    }\n",
       "\n",
       "    .dataframe thead th {\n",
       "        text-align: right;\n",
       "    }\n",
       "</style>\n",
       "<table border=\"1\" class=\"dataframe\">\n",
       "  <thead>\n",
       "    <tr style=\"text-align: right;\">\n",
       "      <th></th>\n",
       "      <th>number</th>\n",
       "      <th>tol</th>\n",
       "      <th>tol_success</th>\n",
       "      <th>tol_nit</th>\n",
       "      <th>tol_error</th>\n",
       "    </tr>\n",
       "  </thead>\n",
       "  <tbody>\n",
       "    <tr>\n",
       "      <th>0</th>\n",
       "      <td>1</td>\n",
       "      <td>0.000001</td>\n",
       "      <td>True</td>\n",
       "      <td>90</td>\n",
       "      <td>0.000000</td>\n",
       "    </tr>\n",
       "    <tr>\n",
       "      <th>1</th>\n",
       "      <td>2</td>\n",
       "      <td>0.000010</td>\n",
       "      <td>True</td>\n",
       "      <td>90</td>\n",
       "      <td>0.000000</td>\n",
       "    </tr>\n",
       "    <tr>\n",
       "      <th>2</th>\n",
       "      <td>3</td>\n",
       "      <td>0.000100</td>\n",
       "      <td>True</td>\n",
       "      <td>90</td>\n",
       "      <td>0.000000</td>\n",
       "    </tr>\n",
       "    <tr>\n",
       "      <th>3</th>\n",
       "      <td>4</td>\n",
       "      <td>0.001000</td>\n",
       "      <td>True</td>\n",
       "      <td>90</td>\n",
       "      <td>0.000000</td>\n",
       "    </tr>\n",
       "    <tr>\n",
       "      <th>4</th>\n",
       "      <td>5</td>\n",
       "      <td>0.010000</td>\n",
       "      <td>True</td>\n",
       "      <td>90</td>\n",
       "      <td>0.000000</td>\n",
       "    </tr>\n",
       "    <tr>\n",
       "      <th>5</th>\n",
       "      <td>6</td>\n",
       "      <td>0.100000</td>\n",
       "      <td>True</td>\n",
       "      <td>90</td>\n",
       "      <td>0.000000</td>\n",
       "    </tr>\n",
       "    <tr>\n",
       "      <th>6</th>\n",
       "      <td>7</td>\n",
       "      <td>1.000000</td>\n",
       "      <td>True</td>\n",
       "      <td>1</td>\n",
       "      <td>0.906621</td>\n",
       "    </tr>\n",
       "    <tr>\n",
       "      <th>7</th>\n",
       "      <td>8</td>\n",
       "      <td>10.000000</td>\n",
       "      <td>True</td>\n",
       "      <td>1</td>\n",
       "      <td>0.906621</td>\n",
       "    </tr>\n",
       "  </tbody>\n",
       "</table>\n",
       "</div>"
      ],
      "text/plain": [
       "   number        tol  tol_success  tol_nit  tol_error\n",
       "0       1   0.000001         True       90   0.000000\n",
       "1       2   0.000010         True       90   0.000000\n",
       "2       3   0.000100         True       90   0.000000\n",
       "3       4   0.001000         True       90   0.000000\n",
       "4       5   0.010000         True       90   0.000000\n",
       "5       6   0.100000         True       90   0.000000\n",
       "6       7   1.000000         True        1   0.906621\n",
       "7       8  10.000000         True        1   0.906621"
      ]
     },
     "execution_count": 131,
     "metadata": {},
     "output_type": "execute_result"
    }
   ],
   "source": [
    "tol_data"
   ]
  },
  {
   "cell_type": "code",
   "execution_count": 90,
   "metadata": {},
   "outputs": [
    {
     "data": {
      "text/plain": [
       "     fun: 4.440892098500626e-16\n",
       " message: 'Optimization terminated successfully.'\n",
       "    nfev: 2793\n",
       "     nit: 90\n",
       " success: True\n",
       "       x: array([0., 0.])"
      ]
     },
     "execution_count": 90,
     "metadata": {},
     "output_type": "execute_result"
    }
   ],
   "source": [
    "differential_evolution(ackley, bounds, seed=42, tol = 10**-1)"
   ]
  },
  {
   "cell_type": "code",
   "execution_count": 91,
   "metadata": {},
   "outputs": [
    {
     "data": {
      "text/plain": [
       "     fun: 2.579927557029887\n",
       "     jac: array([ 1.77635684e-06, -3.55271368e-07])\n",
       " message: 'Optimization terminated successfully.'\n",
       "    nfev: 114\n",
       "     nit: 1\n",
       " success: True\n",
       "       x: array([2.04802499e-08, 9.52166534e-01])"
      ]
     },
     "execution_count": 91,
     "metadata": {},
     "output_type": "execute_result"
    }
   ],
   "source": [
    "differential_evolution(ackley, bounds, seed=42, tol = 10**0)"
   ]
  },
  {
   "cell_type": "code",
   "execution_count": 92,
   "metadata": {},
   "outputs": [
    {
     "data": {
      "text/plain": [
       "     fun: 2.579927557029887\n",
       "     jac: array([ 1.77635684e-06, -3.55271368e-07])\n",
       " message: 'Optimization terminated successfully.'\n",
       "    nfev: 114\n",
       "     nit: 1\n",
       " success: True\n",
       "       x: array([2.04802499e-08, 9.52166534e-01])"
      ]
     },
     "execution_count": 92,
     "metadata": {},
     "output_type": "execute_result"
    }
   ],
   "source": [
    "differential_evolution(ackley, bounds, seed=42, tol = 10**1)"
   ]
  },
  {
   "cell_type": "code",
   "execution_count": 93,
   "metadata": {},
   "outputs": [
    {
     "data": {
      "image/png": "[encoded data removed]",
      "text/plain": [
       "<Figure size 432x288 with 1 Axes>"
      ]
     },
     "metadata": {
      "needs_background": "light"
     },
     "output_type": "display_data"
    }
   ],
   "source": [
    "plt.plot(tol_data.number, tol_data.tol_nit, 'g-*')\n",
    "plt.xlabel('number')\n",
    "plt.ylabel('tol_nit')\n",
    "plt.grid()"
   ]
  },
  {
   "cell_type": "markdown",
   "metadata": {},
   "source": [
    "При значении параметра 1 и 10 качество поиска минимума ниже, а при других значениях погрешности число итераций не изменяется, поэтому имеет смысл брать меньшее значение погрешности, например, $10^{-6}$"
   ]
  },
  {
   "cell_type": "markdown",
   "metadata": {},
   "source": [
    "### 4. Параметр mutation:"
   ]
  },
  {
   "cell_type": "code",
   "execution_count": 132,
   "metadata": {},
   "outputs": [],
   "source": [
    "mutation_data = {'mutation' : range(0, 20, 1)}\n",
    "mutation_data = pd.DataFrame(mutation_data)\n",
    "mutation_data.mutation = mutation_data.mutation/10"
   ]
  },
  {
   "cell_type": "code",
   "execution_count": 133,
   "metadata": {},
   "outputs": [
    {
     "name": "stdout",
     "output_type": "stream",
     "text": [
      "Wall time: 6.88 s\n"
     ]
    }
   ],
   "source": [
    "%%time\n",
    "mutation_success = []\n",
    "mutation_nit = []\n",
    "mutation_error = []\n",
    "for row in mutation_data.mutation:\n",
    "    mutation = row\n",
    "    result = differential_evolution(ackley, bounds, seed=42, mutation = mutation)\n",
    "    mutation_success.append(result.success)\n",
    "    mutation_nit.append(result.nit)\n",
    "    mutation_error.append((result.x[0])**2 + (result.x[1])**2)"
   ]
  },
  {
   "cell_type": "code",
   "execution_count": 134,
   "metadata": {},
   "outputs": [],
   "source": [
    "mutation_success = pd.DataFrame(mutation_success, columns = ['mutation_success'])\n",
    "mutation_nit = pd.DataFrame(mutation_nit, columns = ['mutation_nit'])\n",
    "mutation_error = pd.DataFrame(mutation_error, columns = ['mutation_error'])\n",
    "# Объединение данных в один dataframe\n",
    "mutation_data = mutation_data.join(mutation_success)\n",
    "mutation_data = mutation_data.join(mutation_nit)\n",
    "mutation_data = mutation_data.join(mutation_error)"
   ]
  },
  {
   "cell_type": "code",
   "execution_count": 136,
   "metadata": {},
   "outputs": [
    {
     "data": {
      "text/html": [
       "<div>\n",
       "<style scoped>\n",
       "    .dataframe tbody tr th:only-of-type {\n",
       "        vertical-align: middle;\n",
       "    }\n",
       "\n",
       "    .dataframe tbody tr th {\n",
       "        vertical-align: top;\n",
       "    }\n",
       "\n",
       "    .dataframe thead th {\n",
       "        text-align: right;\n",
       "    }\n",
       "</style>\n",
       "<table border=\"1\" class=\"dataframe\">\n",
       "  <thead>\n",
       "    <tr style=\"text-align: right;\">\n",
       "      <th></th>\n",
       "      <th>mutation</th>\n",
       "      <th>mutation_success</th>\n",
       "      <th>mutation_nit</th>\n",
       "      <th>mutation_error</th>\n",
       "    </tr>\n",
       "  </thead>\n",
       "  <tbody>\n",
       "    <tr>\n",
       "      <th>0</th>\n",
       "      <td>0.0</td>\n",
       "      <td>True</td>\n",
       "      <td>3</td>\n",
       "      <td>1.875898</td>\n",
       "    </tr>\n",
       "    <tr>\n",
       "      <th>1</th>\n",
       "      <td>0.1</td>\n",
       "      <td>True</td>\n",
       "      <td>5</td>\n",
       "      <td>1.875898</td>\n",
       "    </tr>\n",
       "    <tr>\n",
       "      <th>2</th>\n",
       "      <td>0.2</td>\n",
       "      <td>True</td>\n",
       "      <td>28</td>\n",
       "      <td>0.000000</td>\n",
       "    </tr>\n",
       "    <tr>\n",
       "      <th>3</th>\n",
       "      <td>0.3</td>\n",
       "      <td>True</td>\n",
       "      <td>38</td>\n",
       "      <td>0.000000</td>\n",
       "    </tr>\n",
       "    <tr>\n",
       "      <th>4</th>\n",
       "      <td>0.4</td>\n",
       "      <td>True</td>\n",
       "      <td>47</td>\n",
       "      <td>0.000000</td>\n",
       "    </tr>\n",
       "    <tr>\n",
       "      <th>5</th>\n",
       "      <td>0.5</td>\n",
       "      <td>True</td>\n",
       "      <td>57</td>\n",
       "      <td>0.000000</td>\n",
       "    </tr>\n",
       "    <tr>\n",
       "      <th>6</th>\n",
       "      <td>0.6</td>\n",
       "      <td>True</td>\n",
       "      <td>76</td>\n",
       "      <td>0.000000</td>\n",
       "    </tr>\n",
       "    <tr>\n",
       "      <th>7</th>\n",
       "      <td>0.7</td>\n",
       "      <td>True</td>\n",
       "      <td>91</td>\n",
       "      <td>0.000000</td>\n",
       "    </tr>\n",
       "    <tr>\n",
       "      <th>8</th>\n",
       "      <td>0.8</td>\n",
       "      <td>True</td>\n",
       "      <td>104</td>\n",
       "      <td>0.000000</td>\n",
       "    </tr>\n",
       "    <tr>\n",
       "      <th>9</th>\n",
       "      <td>0.9</td>\n",
       "      <td>True</td>\n",
       "      <td>137</td>\n",
       "      <td>0.000000</td>\n",
       "    </tr>\n",
       "  </tbody>\n",
       "</table>\n",
       "</div>"
      ],
      "text/plain": [
       "   mutation  mutation_success  mutation_nit  mutation_error\n",
       "0       0.0              True             3        1.875898\n",
       "1       0.1              True             5        1.875898\n",
       "2       0.2              True            28        0.000000\n",
       "3       0.3              True            38        0.000000\n",
       "4       0.4              True            47        0.000000\n",
       "5       0.5              True            57        0.000000\n",
       "6       0.6              True            76        0.000000\n",
       "7       0.7              True            91        0.000000\n",
       "8       0.8              True           104        0.000000\n",
       "9       0.9              True           137        0.000000"
      ]
     },
     "execution_count": 136,
     "metadata": {},
     "output_type": "execute_result"
    }
   ],
   "source": [
    "mutation_data.head(10)"
   ]
  },
  {
   "cell_type": "code",
   "execution_count": 113,
   "metadata": {},
   "outputs": [
    {
     "data": {
      "text/plain": [
       "     fun: 1.283417816466681e-13\n",
       " message: 'Optimization terminated successfully.'\n",
       "    nfev: 4233\n",
       "     nit: 138\n",
       " success: True\n",
       "       x: array([4.4408921e-14, 8.8817842e-15])"
      ]
     },
     "execution_count": 113,
     "metadata": {},
     "output_type": "execute_result"
    }
   ],
   "source": [
    "differential_evolution(ackley, bounds, seed=42, mutation = 0.)"
   ]
  },
  {
   "cell_type": "code",
   "execution_count": 110,
   "metadata": {},
   "outputs": [
    {
     "data": {
      "image/png": "[encoded data removed]",
      "text/plain": [
       "<Figure size 432x288 with 1 Axes>"
      ]
     },
     "metadata": {
      "needs_background": "light"
     },
     "output_type": "display_data"
    }
   ],
   "source": [
    "plt.plot(mutation_data.mutation, mutation_data.mutation_nit, 'b-*')\n",
    "plt.xlabel('mutation')\n",
    "plt.ylabel('mutation_nit')\n",
    "plt.grid()"
   ]
  },
  {
   "cell_type": "code",
   "execution_count": 137,
   "metadata": {},
   "outputs": [
    {
     "data": {
      "image/png": "[encoded data removed]",
      "text/plain": [
       "<Figure size 432x288 with 1 Axes>"
      ]
     },
     "metadata": {
      "needs_background": "light"
     },
     "output_type": "display_data"
    }
   ],
   "source": [
    "plt.plot(mutation_data.mutation, mutation_data.mutation_error, 'r-*')\n",
    "plt.xlabel('mutation')\n",
    "plt.ylabel('mutation_error')\n",
    "plt.grid()"
   ]
  },
  {
   "cell_type": "markdown",
   "metadata": {},
   "source": [
    "Целесообразно выбрать такое значение, при котором, во-первых, ошибка равна 0, во-вторых, количество итераций минимальное. Такая ситуация достигается при mutation = 3."
   ]
  },
  {
   "cell_type": "markdown",
   "metadata": {},
   "source": [
    "### 5. Параметр recombination:"
   ]
  },
  {
   "cell_type": "code",
   "execution_count": 138,
   "metadata": {},
   "outputs": [],
   "source": [
    "recombination_data = {'recombination' : range(0, 11, 1)}\n",
    "recombination_data = pd.DataFrame(recombination_data)\n",
    "recombination_data.recombination = recombination_data.recombination / 10"
   ]
  },
  {
   "cell_type": "code",
   "execution_count": 139,
   "metadata": {},
   "outputs": [
    {
     "name": "stdout",
     "output_type": "stream",
     "text": [
      "Wall time: 2.72 s\n"
     ]
    }
   ],
   "source": [
    "%%time\n",
    "recombination_success = []\n",
    "recombination_nit = []\n",
    "recombination_error = []\n",
    "for row in recombination_data.recombination:\n",
    "    recombination = row\n",
    "    result = differential_evolution(ackley, bounds, seed=42, recombination = recombination)\n",
    "    recombination_success.append(result.success)\n",
    "    recombination_nit.append(result.nit)\n",
    "    recombination_error.append((result.x[0])**2 + (result.x[1])**2)"
   ]
  },
  {
   "cell_type": "code",
   "execution_count": 140,
   "metadata": {},
   "outputs": [],
   "source": [
    "recombination_success = pd.DataFrame(recombination_success, columns = ['recombination_success'])\n",
    "recombination_nit = pd.DataFrame(recombination_nit, columns = ['recombination_nit'])\n",
    "recombination_error = pd.DataFrame(recombination_error, columns = ['recombination_error'])\n",
    "# Объединение данных в один dataframe\n",
    "recombination_data = recombination_data.join(recombination_success)\n",
    "recombination_data = recombination_data.join(recombination_nit)\n",
    "recombination_data = recombination_data.join(recombination_error)"
   ]
  },
  {
   "cell_type": "code",
   "execution_count": 141,
   "metadata": {},
   "outputs": [
    {
     "data": {
      "text/html": [
       "<div>\n",
       "<style scoped>\n",
       "    .dataframe tbody tr th:only-of-type {\n",
       "        vertical-align: middle;\n",
       "    }\n",
       "\n",
       "    .dataframe tbody tr th {\n",
       "        vertical-align: top;\n",
       "    }\n",
       "\n",
       "    .dataframe thead th {\n",
       "        text-align: right;\n",
       "    }\n",
       "</style>\n",
       "<table border=\"1\" class=\"dataframe\">\n",
       "  <thead>\n",
       "    <tr style=\"text-align: right;\">\n",
       "      <th></th>\n",
       "      <th>recombination</th>\n",
       "      <th>recombination_success</th>\n",
       "      <th>recombination_nit</th>\n",
       "      <th>recombination_error</th>\n",
       "    </tr>\n",
       "  </thead>\n",
       "  <tbody>\n",
       "    <tr>\n",
       "      <th>0</th>\n",
       "      <td>0.0</td>\n",
       "      <td>True</td>\n",
       "      <td>111</td>\n",
       "      <td>0.0</td>\n",
       "    </tr>\n",
       "    <tr>\n",
       "      <th>1</th>\n",
       "      <td>0.1</td>\n",
       "      <td>True</td>\n",
       "      <td>126</td>\n",
       "      <td>0.0</td>\n",
       "    </tr>\n",
       "    <tr>\n",
       "      <th>2</th>\n",
       "      <td>0.2</td>\n",
       "      <td>True</td>\n",
       "      <td>110</td>\n",
       "      <td>0.0</td>\n",
       "    </tr>\n",
       "    <tr>\n",
       "      <th>3</th>\n",
       "      <td>0.3</td>\n",
       "      <td>True</td>\n",
       "      <td>108</td>\n",
       "      <td>0.0</td>\n",
       "    </tr>\n",
       "    <tr>\n",
       "      <th>4</th>\n",
       "      <td>0.4</td>\n",
       "      <td>True</td>\n",
       "      <td>108</td>\n",
       "      <td>0.0</td>\n",
       "    </tr>\n",
       "    <tr>\n",
       "      <th>5</th>\n",
       "      <td>0.5</td>\n",
       "      <td>True</td>\n",
       "      <td>107</td>\n",
       "      <td>0.0</td>\n",
       "    </tr>\n",
       "    <tr>\n",
       "      <th>6</th>\n",
       "      <td>0.6</td>\n",
       "      <td>True</td>\n",
       "      <td>96</td>\n",
       "      <td>0.0</td>\n",
       "    </tr>\n",
       "    <tr>\n",
       "      <th>7</th>\n",
       "      <td>0.7</td>\n",
       "      <td>True</td>\n",
       "      <td>90</td>\n",
       "      <td>0.0</td>\n",
       "    </tr>\n",
       "    <tr>\n",
       "      <th>8</th>\n",
       "      <td>0.8</td>\n",
       "      <td>True</td>\n",
       "      <td>84</td>\n",
       "      <td>0.0</td>\n",
       "    </tr>\n",
       "    <tr>\n",
       "      <th>9</th>\n",
       "      <td>0.9</td>\n",
       "      <td>True</td>\n",
       "      <td>85</td>\n",
       "      <td>0.0</td>\n",
       "    </tr>\n",
       "    <tr>\n",
       "      <th>10</th>\n",
       "      <td>1.0</td>\n",
       "      <td>True</td>\n",
       "      <td>82</td>\n",
       "      <td>0.0</td>\n",
       "    </tr>\n",
       "  </tbody>\n",
       "</table>\n",
       "</div>"
      ],
      "text/plain": [
       "    recombination  recombination_success  recombination_nit  \\\n",
       "0             0.0                   True                111   \n",
       "1             0.1                   True                126   \n",
       "2             0.2                   True                110   \n",
       "3             0.3                   True                108   \n",
       "4             0.4                   True                108   \n",
       "5             0.5                   True                107   \n",
       "6             0.6                   True                 96   \n",
       "7             0.7                   True                 90   \n",
       "8             0.8                   True                 84   \n",
       "9             0.9                   True                 85   \n",
       "10            1.0                   True                 82   \n",
       "\n",
       "    recombination_error  \n",
       "0                   0.0  \n",
       "1                   0.0  \n",
       "2                   0.0  \n",
       "3                   0.0  \n",
       "4                   0.0  \n",
       "5                   0.0  \n",
       "6                   0.0  \n",
       "7                   0.0  \n",
       "8                   0.0  \n",
       "9                   0.0  \n",
       "10                  0.0  "
      ]
     },
     "execution_count": 141,
     "metadata": {},
     "output_type": "execute_result"
    }
   ],
   "source": [
    "recombination_data"
   ]
  },
  {
   "cell_type": "code",
   "execution_count": 143,
   "metadata": {},
   "outputs": [
    {
     "data": {
      "image/png": "[encoded data removed]",
      "text/plain": [
       "<Figure size 432x288 with 1 Axes>"
      ]
     },
     "metadata": {
      "needs_background": "light"
     },
     "output_type": "display_data"
    }
   ],
   "source": [
    "plt.plot(recombination_data.recombination, recombination_data.recombination_nit, 'k-*')\n",
    "plt.xlabel('recombination')\n",
    "plt.ylabel('recombination_nit')\n",
    "plt.grid()"
   ]
  },
  {
   "cell_type": "markdown",
   "metadata": {},
   "source": [
    "С увеличением количества рекомбинаций, количество итераций снижается. Так как ошибка при всех случаях равна 0, то целесообразно выбрать recombination = 1."
   ]
  },
  {
   "cell_type": "markdown",
   "metadata": {},
   "source": [
    "### 6. Параметр updating:"
   ]
  },
  {
   "cell_type": "code",
   "execution_count": 147,
   "metadata": {},
   "outputs": [],
   "source": [
    "updating_data = {'number' : range(1,3),\n",
    "                 'updating': ['immediate', 'deferred']}\n",
    "updating_data = pd.DataFrame(updating_data)"
   ]
  },
  {
   "cell_type": "code",
   "execution_count": 148,
   "metadata": {},
   "outputs": [
    {
     "name": "stdout",
     "output_type": "stream",
     "text": [
      "Wall time: 437 ms\n"
     ]
    }
   ],
   "source": [
    "%%time\n",
    "updating_success = []\n",
    "updating_nit = []\n",
    "updating_error = []\n",
    "for row in updating_data.updating:\n",
    "    updating = row\n",
    "    result = differential_evolution(ackley, bounds, seed=42, updating = updating)\n",
    "    updating_success.append(result.success)\n",
    "    updating_nit.append(result.nit)\n",
    "    updating_error.append((result.x[0])**2 + (result.x[1])**2)"
   ]
  },
  {
   "cell_type": "code",
   "execution_count": 149,
   "metadata": {},
   "outputs": [],
   "source": [
    "updating_success = pd.DataFrame(updating_success, columns = ['updating_success'])\n",
    "updating_nit = pd.DataFrame(updating_nit, columns = ['updating_nit'])\n",
    "updating_error = pd.DataFrame(updating_error, columns = ['updating_error'])\n",
    "# Объединение данных в один dataframe\n",
    "updating_data = updating_data.join(updating_success)\n",
    "updating_data = updating_data.join(updating_nit)\n",
    "updating_data = updating_data.join(updating_error)"
   ]
  },
  {
   "cell_type": "code",
   "execution_count": 150,
   "metadata": {},
   "outputs": [
    {
     "data": {
      "text/html": [
       "<div>\n",
       "<style scoped>\n",
       "    .dataframe tbody tr th:only-of-type {\n",
       "        vertical-align: middle;\n",
       "    }\n",
       "\n",
       "    .dataframe tbody tr th {\n",
       "        vertical-align: top;\n",
       "    }\n",
       "\n",
       "    .dataframe thead th {\n",
       "        text-align: right;\n",
       "    }\n",
       "</style>\n",
       "<table border=\"1\" class=\"dataframe\">\n",
       "  <thead>\n",
       "    <tr style=\"text-align: right;\">\n",
       "      <th></th>\n",
       "      <th>number</th>\n",
       "      <th>updating</th>\n",
       "      <th>updating_success</th>\n",
       "      <th>updating_nit</th>\n",
       "      <th>updating_error</th>\n",
       "    </tr>\n",
       "  </thead>\n",
       "  <tbody>\n",
       "    <tr>\n",
       "      <th>0</th>\n",
       "      <td>1</td>\n",
       "      <td>immediate</td>\n",
       "      <td>True</td>\n",
       "      <td>90</td>\n",
       "      <td>0.0</td>\n",
       "    </tr>\n",
       "    <tr>\n",
       "      <th>1</th>\n",
       "      <td>2</td>\n",
       "      <td>deferred</td>\n",
       "      <td>True</td>\n",
       "      <td>122</td>\n",
       "      <td>0.0</td>\n",
       "    </tr>\n",
       "  </tbody>\n",
       "</table>\n",
       "</div>"
      ],
      "text/plain": [
       "   number   updating  updating_success  updating_nit  updating_error\n",
       "0       1  immediate              True            90             0.0\n",
       "1       2   deferred              True           122             0.0"
      ]
     },
     "execution_count": 150,
     "metadata": {},
     "output_type": "execute_result"
    }
   ],
   "source": [
    "updating_data"
   ]
  },
  {
   "cell_type": "code",
   "execution_count": 152,
   "metadata": {},
   "outputs": [
    {
     "data": {
      "image/png": "[encoded data removed]",
      "text/plain": [
       "<Figure size 432x288 with 1 Axes>"
      ]
     },
     "metadata": {
      "needs_background": "light"
     },
     "output_type": "display_data"
    }
   ],
   "source": [
    "plt.plot(updating_data.number, updating_data.updating_nit, 'c-*')\n",
    "plt.xlabel('number')\n",
    "plt.ylabel('updating_nit')\n",
    "plt.grid()"
   ]
  },
  {
   "cell_type": "markdown",
   "metadata": {},
   "source": [
    "Оптимальное значение достигается при updating = immediate."
   ]
  },
  {
   "cell_type": "markdown",
   "metadata": {},
   "source": [
    "### Допзадание"
   ]
  },
  {
   "cell_type": "markdown",
   "metadata": {},
   "source": [
    "Найти множество параметров (strategy=..., ..., updating=...), которые требуют минимального количества итераций."
   ]
  },
  {
   "cell_type": "markdown",
   "metadata": {},
   "source": [
    "Не будем рассматривать те стратегии, которые на тестовом примере не показали сходимость:"
   ]
  },
  {
   "cell_type": "code",
   "execution_count": 174,
   "metadata": {},
   "outputs": [],
   "source": [
    "strategy_data = {'strategy': ['best1bin', 'best1exp', 'rand1exp', 'randtobest1exp',\n",
    "                              'best2exp', 'rand2exp', 'randtobest1bin', 'best2bin',\n",
    "                              'rand2bin', 'rand1bin']}\n",
    "strategy_data = pd.DataFrame(strategy_data)"
   ]
  },
  {
   "cell_type": "markdown",
   "metadata": {},
   "source": [
    "Будем рассматривать только то, значение параметров, для которых наблюдалось наименьшее количество итераций, и два ближайших к нему."
   ]
  },
  {
   "cell_type": "code",
   "execution_count": 175,
   "metadata": {},
   "outputs": [],
   "source": [
    "popsize_data = {'popsize' : range(3, 6)}\n",
    "popsize_data = pd.DataFrame(popsize_data)"
   ]
  },
  {
   "cell_type": "code",
   "execution_count": 176,
   "metadata": {},
   "outputs": [],
   "source": [
    "tol_data = {'tol': [10**(-6), 10**(-5), 10**(-4)]}\n",
    "tol_data = pd.DataFrame(tol_data)"
   ]
  },
  {
   "cell_type": "code",
   "execution_count": 177,
   "metadata": {},
   "outputs": [],
   "source": [
    "mutation_data = {'mutation' : range(2, 5, 1)}\n",
    "mutation_data = pd.DataFrame(mutation_data)\n",
    "mutation_data.mutation = mutation_data.mutation/10"
   ]
  },
  {
   "cell_type": "code",
   "execution_count": 178,
   "metadata": {},
   "outputs": [],
   "source": [
    "recombination_data = {'recombination' : range(8, 11, 1)}\n",
    "recombination_data = pd.DataFrame(recombination_data)\n",
    "recombination_data.recombination = recombination_data.recombination / 10"
   ]
  },
  {
   "cell_type": "code",
   "execution_count": 179,
   "metadata": {},
   "outputs": [],
   "source": [
    "updating_data = {'updating': ['immediate', 'deferred']}\n",
    "updating_data = pd.DataFrame(updating_data)"
   ]
  },
  {
   "cell_type": "code",
   "execution_count": 180,
   "metadata": {},
   "outputs": [],
   "source": [
    "strategy_data['key'] = 0\n",
    "popsize_data['key'] = 0\n",
    "tol_data['key'] = 0\n",
    "mutation_data['key'] = 0\n",
    "recombination_data['key'] = 0\n",
    "updating_data['key'] = 0"
   ]
  },
  {
   "cell_type": "markdown",
   "metadata": {},
   "source": [
    "Декартово произведение:"
   ]
  },
  {
   "cell_type": "code",
   "execution_count": 181,
   "metadata": {},
   "outputs": [],
   "source": [
    "df_cartesian = strategy_data.merge(popsize_data, how = 'outer')\n",
    "df_cartesian = df_cartesian.merge(tol_data, how = 'outer')\n",
    "df_cartesian = df_cartesian.merge(mutation_data, how = 'outer')\n",
    "df_cartesian = df_cartesian.merge(recombination_data, how = 'outer')\n",
    "df_cartesian = df_cartesian.merge(updating_data, how = 'outer')"
   ]
  },
  {
   "cell_type": "code",
   "execution_count": 183,
   "metadata": {},
   "outputs": [],
   "source": [
    "df_cartesian.drop('key', axis = 1, inplace = True)"
   ]
  },
  {
   "cell_type": "code",
   "execution_count": 186,
   "metadata": {},
   "outputs": [
    {
     "data": {
      "text/html": [
       "<div>\n",
       "<style scoped>\n",
       "    .dataframe tbody tr th:only-of-type {\n",
       "        vertical-align: middle;\n",
       "    }\n",
       "\n",
       "    .dataframe tbody tr th {\n",
       "        vertical-align: top;\n",
       "    }\n",
       "\n",
       "    .dataframe thead th {\n",
       "        text-align: right;\n",
       "    }\n",
       "</style>\n",
       "<table border=\"1\" class=\"dataframe\">\n",
       "  <thead>\n",
       "    <tr style=\"text-align: right;\">\n",
       "      <th></th>\n",
       "      <th>strategy</th>\n",
       "      <th>popsize</th>\n",
       "      <th>tol</th>\n",
       "      <th>mutation</th>\n",
       "      <th>recombination</th>\n",
       "      <th>updating</th>\n",
       "    </tr>\n",
       "  </thead>\n",
       "  <tbody>\n",
       "    <tr>\n",
       "      <th>0</th>\n",
       "      <td>best1bin</td>\n",
       "      <td>3</td>\n",
       "      <td>0.000001</td>\n",
       "      <td>0.2</td>\n",
       "      <td>0.8</td>\n",
       "      <td>immediate</td>\n",
       "    </tr>\n",
       "    <tr>\n",
       "      <th>1</th>\n",
       "      <td>best1bin</td>\n",
       "      <td>3</td>\n",
       "      <td>0.000001</td>\n",
       "      <td>0.2</td>\n",
       "      <td>0.8</td>\n",
       "      <td>deferred</td>\n",
       "    </tr>\n",
       "    <tr>\n",
       "      <th>2</th>\n",
       "      <td>best1bin</td>\n",
       "      <td>3</td>\n",
       "      <td>0.000001</td>\n",
       "      <td>0.2</td>\n",
       "      <td>0.9</td>\n",
       "      <td>immediate</td>\n",
       "    </tr>\n",
       "    <tr>\n",
       "      <th>3</th>\n",
       "      <td>best1bin</td>\n",
       "      <td>3</td>\n",
       "      <td>0.000001</td>\n",
       "      <td>0.2</td>\n",
       "      <td>0.9</td>\n",
       "      <td>deferred</td>\n",
       "    </tr>\n",
       "    <tr>\n",
       "      <th>4</th>\n",
       "      <td>best1bin</td>\n",
       "      <td>3</td>\n",
       "      <td>0.000001</td>\n",
       "      <td>0.2</td>\n",
       "      <td>1.0</td>\n",
       "      <td>immediate</td>\n",
       "    </tr>\n",
       "    <tr>\n",
       "      <th>5</th>\n",
       "      <td>best1bin</td>\n",
       "      <td>3</td>\n",
       "      <td>0.000001</td>\n",
       "      <td>0.2</td>\n",
       "      <td>1.0</td>\n",
       "      <td>deferred</td>\n",
       "    </tr>\n",
       "    <tr>\n",
       "      <th>6</th>\n",
       "      <td>best1bin</td>\n",
       "      <td>3</td>\n",
       "      <td>0.000001</td>\n",
       "      <td>0.3</td>\n",
       "      <td>0.8</td>\n",
       "      <td>immediate</td>\n",
       "    </tr>\n",
       "    <tr>\n",
       "      <th>7</th>\n",
       "      <td>best1bin</td>\n",
       "      <td>3</td>\n",
       "      <td>0.000001</td>\n",
       "      <td>0.3</td>\n",
       "      <td>0.8</td>\n",
       "      <td>deferred</td>\n",
       "    </tr>\n",
       "    <tr>\n",
       "      <th>8</th>\n",
       "      <td>best1bin</td>\n",
       "      <td>3</td>\n",
       "      <td>0.000001</td>\n",
       "      <td>0.3</td>\n",
       "      <td>0.9</td>\n",
       "      <td>immediate</td>\n",
       "    </tr>\n",
       "    <tr>\n",
       "      <th>9</th>\n",
       "      <td>best1bin</td>\n",
       "      <td>3</td>\n",
       "      <td>0.000001</td>\n",
       "      <td>0.3</td>\n",
       "      <td>0.9</td>\n",
       "      <td>deferred</td>\n",
       "    </tr>\n",
       "  </tbody>\n",
       "</table>\n",
       "</div>"
      ],
      "text/plain": [
       "   strategy  popsize       tol  mutation  recombination   updating\n",
       "0  best1bin        3  0.000001       0.2            0.8  immediate\n",
       "1  best1bin        3  0.000001       0.2            0.8   deferred\n",
       "2  best1bin        3  0.000001       0.2            0.9  immediate\n",
       "3  best1bin        3  0.000001       0.2            0.9   deferred\n",
       "4  best1bin        3  0.000001       0.2            1.0  immediate\n",
       "5  best1bin        3  0.000001       0.2            1.0   deferred\n",
       "6  best1bin        3  0.000001       0.3            0.8  immediate\n",
       "7  best1bin        3  0.000001       0.3            0.8   deferred\n",
       "8  best1bin        3  0.000001       0.3            0.9  immediate\n",
       "9  best1bin        3  0.000001       0.3            0.9   deferred"
      ]
     },
     "execution_count": 186,
     "metadata": {},
     "output_type": "execute_result"
    }
   ],
   "source": [
    "df_cartesian.head(10)"
   ]
  },
  {
   "cell_type": "markdown",
   "metadata": {},
   "source": [
    "Будем выполнять поиск по сетке:"
   ]
  },
  {
   "cell_type": "code",
   "execution_count": 195,
   "metadata": {},
   "outputs": [
    {
     "name": "stdout",
     "output_type": "stream",
     "text": [
      "Wall time: 59.3 s\n"
     ]
    }
   ],
   "source": [
    "%%time\n",
    "df_success = []\n",
    "df_nit = []\n",
    "df_error = []\n",
    "for index, row in df_cartesian.iterrows():\n",
    "    \n",
    "    strategy = row['strategy']\n",
    "    popsize = row['popsize']\n",
    "    tol = row['tol']\n",
    "    mutation = row['mutation']\n",
    "    recombination = row['recombination']\n",
    "    updating = row['updating']\n",
    "    \n",
    "    result = differential_evolution(ackley, bounds, seed=42, \n",
    "                                    strategy = strategy,\n",
    "                                    popsize = popsize,\n",
    "                                    tol = tol,\n",
    "                                    mutation = mutation,\n",
    "                                    recombination = recombination,\n",
    "                                    updating = updating)\n",
    "    \n",
    "    df_success.append(result.success)\n",
    "    df_nit.append(result.nit)\n",
    "    df_error.append((result.x[0])**2 + (result.x[1])**2)"
   ]
  },
  {
   "cell_type": "code",
   "execution_count": 196,
   "metadata": {},
   "outputs": [],
   "source": [
    "df_success = pd.DataFrame(df_success, columns = ['success'])\n",
    "df_nit = pd.DataFrame(df_nit, columns = ['nit'])\n",
    "df_error = pd.DataFrame(df_error, columns = ['error'])\n",
    "# Объединение данных в один dataframe\n",
    "df_cartesian = df_cartesian.join(df_success)\n",
    "df_cartesian = df_cartesian.join(df_nit)\n",
    "df_cartesian = df_cartesian.join(df_error)"
   ]
  },
  {
   "cell_type": "markdown",
   "metadata": {},
   "source": [
    "Удалим такие комбинации параметров, для которых значение ошибки велико:"
   ]
  },
  {
   "cell_type": "code",
   "execution_count": 199,
   "metadata": {},
   "outputs": [],
   "source": [
    "new_df = df_cartesian[df_cartesian.error <= 10**(-6)]"
   ]
  },
  {
   "cell_type": "markdown",
   "metadata": {},
   "source": [
    "Найдем комбинации с минимальным количеством итераций:"
   ]
  },
  {
   "cell_type": "code",
   "execution_count": 202,
   "metadata": {},
   "outputs": [
    {
     "data": {
      "text/html": [
       "<div>\n",
       "<style scoped>\n",
       "    .dataframe tbody tr th:only-of-type {\n",
       "        vertical-align: middle;\n",
       "    }\n",
       "\n",
       "    .dataframe tbody tr th {\n",
       "        vertical-align: top;\n",
       "    }\n",
       "\n",
       "    .dataframe thead th {\n",
       "        text-align: right;\n",
       "    }\n",
       "</style>\n",
       "<table border=\"1\" class=\"dataframe\">\n",
       "  <thead>\n",
       "    <tr style=\"text-align: right;\">\n",
       "      <th></th>\n",
       "      <th>strategy</th>\n",
       "      <th>popsize</th>\n",
       "      <th>tol</th>\n",
       "      <th>mutation</th>\n",
       "      <th>recombination</th>\n",
       "      <th>updating</th>\n",
       "      <th>success</th>\n",
       "      <th>nit</th>\n",
       "      <th>error</th>\n",
       "    </tr>\n",
       "  </thead>\n",
       "  <tbody>\n",
       "    <tr>\n",
       "      <th>94</th>\n",
       "      <td>best1bin</td>\n",
       "      <td>4</td>\n",
       "      <td>0.0001</td>\n",
       "      <td>0.2</td>\n",
       "      <td>1.0</td>\n",
       "      <td>immediate</td>\n",
       "      <td>True</td>\n",
       "      <td>5</td>\n",
       "      <td>1.924715e-18</td>\n",
       "    </tr>\n",
       "    <tr>\n",
       "      <th>256</th>\n",
       "      <td>best1exp</td>\n",
       "      <td>4</td>\n",
       "      <td>0.0001</td>\n",
       "      <td>0.2</td>\n",
       "      <td>1.0</td>\n",
       "      <td>immediate</td>\n",
       "      <td>True</td>\n",
       "      <td>5</td>\n",
       "      <td>1.924715e-18</td>\n",
       "    </tr>\n",
       "  </tbody>\n",
       "</table>\n",
       "</div>"
      ],
      "text/plain": [
       "     strategy  popsize     tol  mutation  recombination   updating  success  \\\n",
       "94   best1bin        4  0.0001       0.2            1.0  immediate     True   \n",
       "256  best1exp        4  0.0001       0.2            1.0  immediate     True   \n",
       "\n",
       "     nit         error  \n",
       "94     5  1.924715e-18  \n",
       "256    5  1.924715e-18  "
      ]
     },
     "execution_count": 202,
     "metadata": {},
     "output_type": "execute_result"
    }
   ],
   "source": [
    "new_df[new_df['nit'] == new_df['nit'].min()]"
   ]
  }
 ],
 "metadata": {
  "kernelspec": {
   "display_name": "Python 3",
   "language": "python",
   "name": "python3"
  },
  "language_info": {
   "codemirror_mode": {
    "name": "ipython",
    "version": 3
   },
   "file_extension": ".py",
   "mimetype": "text/x-python",
   "name": "python",
   "nbconvert_exporter": "python",
   "pygments_lexer": "ipython3",
   "version": "3.7.6"
  }
 },
 "nbformat": 4,
 "nbformat_minor": 4
}
