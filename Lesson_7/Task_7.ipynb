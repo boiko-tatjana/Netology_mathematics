{
 "cells": [
  {
   "cell_type": "code",
   "execution_count": 54,
   "metadata": {},
   "outputs": [],
   "source": [
    "import numpy as np\n",
    "from math import factorial\n",
    "import random\n",
    "import matplotlib.pyplot as plt\n",
    "import statistics\n",
    "import pandas as pd"
   ]
  },
  {
   "cell_type": "markdown",
   "metadata": {},
   "source": [
    "### Уровень 0"
   ]
  },
  {
   "cell_type": "markdown",
   "metadata": {},
   "source": [
    "#### Задание 1"
   ]
  },
  {
   "cell_type": "markdown",
   "metadata": {},
   "source": [
    "Монетку подбрасывают 15 раз, найдите вероятность выпадения простого числа орлов (решение на бумажке и на python)."
   ]
  },
  {
   "cell_type": "markdown",
   "metadata": {},
   "source": [
    "Воспользуемся формулой Бернулли:"
   ]
  },
  {
   "cell_type": "markdown",
   "metadata": {},
   "source": [
    "$ P_k^n=C_k^n \\cdot p^k \\cdot q^{n-k}$,   \n",
    "\n",
    "где   \n",
    "\n",
    "$C_k^n =  \\frac {n!}{k! \\cdot (n-k)!}$"
   ]
  },
  {
   "cell_type": "markdown",
   "metadata": {},
   "source": [
    "Найдем вероятность того, что выпадет простое число: 2, 3, 5, 7, 11, 13 (6 шт)"
   ]
  },
  {
   "cell_type": "markdown",
   "metadata": {},
   "source": [
    "Для монетки $p = 0.5 $ и $q = 0.5$. \n",
    "\n",
    "Тогда: $p=q$, получим:  \n",
    "\n",
    "$ P_k^n=C_k^n \\cdot p^n $\n",
    "\n",
    "$p^n$ можно будет в итоговой сумме вынести за скобки"
   ]
  },
  {
   "cell_type": "markdown",
   "metadata": {},
   "source": [
    "$C_{15}^{2} =  \\frac {15!}{2! \\cdot (15-2)!} = \\frac {15!}{2! \\cdot 13!} = \\frac {14 \\cdot 15}{1 \\cdot 2} = 105$"
   ]
  },
  {
   "cell_type": "markdown",
   "metadata": {},
   "source": [
    "$C_{15}^{3} =  \\frac {15!}{3! \\cdot (15-3)!} = \\frac {15!}{3! \\cdot 12!} = \\frac {13 \\cdot 14 \\cdot 15 }{1 \\cdot 2 \\cdot 3} = 455$"
   ]
  },
  {
   "cell_type": "markdown",
   "metadata": {},
   "source": [
    "$C_{15}^{5} =  \\frac {15!}{5! \\cdot (15-5)!} = \\frac {15!}{5! \\cdot 10!} = \\frac { 11 \\cdot 12 \\cdot 13 \\cdot 14 \\cdot 15 }{1 \\cdot 2 \\cdot 3 \\cdot 4 \\cdot 5} = 3003$"
   ]
  },
  {
   "cell_type": "markdown",
   "metadata": {},
   "source": [
    "$C_{15}^{7} =  \\frac {15!}{7! \\cdot (15-7)!} = \\frac {15!}{7! \\cdot 8!} = \\frac { 9 \\cdot 10 \\cdot 11 \\cdot 12 \\cdot 13 \\cdot 14 \\cdot 15 }{1 \\cdot 2 \\cdot 3 \\cdot 4 \\cdot 5 \\cdot 6 \\cdot 7 } = 6435$"
   ]
  },
  {
   "cell_type": "markdown",
   "metadata": {},
   "source": [
    "$C_{15}^{11} =  \\frac {15!}{7! \\cdot (15-11)!} = \\frac {15!}{11! \\cdot 4!} = \\frac { 12 \\cdot 13 \\cdot 14 \\cdot 15 }{1 \\cdot 2 \\cdot 3 \\cdot 4 } = 1365$"
   ]
  },
  {
   "cell_type": "markdown",
   "metadata": {},
   "source": [
    "$C_{15}^{13} =  \\frac {15!}{7! \\cdot (15-13)!} = \\frac {15!}{13! \\cdot 2!} = \\frac { 14 \\cdot 15 }{1 \\cdot 2 } = 105$"
   ]
  },
  {
   "cell_type": "markdown",
   "metadata": {},
   "source": [
    "Найдем общую сумму:"
   ]
  },
  {
   "cell_type": "markdown",
   "metadata": {},
   "source": [
    "$P= p^{15} \\cdot (C_{15}^{2} + C_{15}^{3} + C_{15}^{5}+ C_{15}^{7} + C_{15}^{11} + C_{15}^{13}) = \\\\  \n",
    "=0.5^{15} \\cdot (105 + 455 + 3003 + 6435 + 1365 + 105) = \\\\ = 0.00003 \\cdot 11468 = 0.35$"
   ]
  },
  {
   "cell_type": "markdown",
   "metadata": {},
   "source": [
    "Проверим с помощью python:"
   ]
  },
  {
   "cell_type": "code",
   "execution_count": 10,
   "metadata": {},
   "outputs": [],
   "source": [
    "def combination(n, k):\n",
    "    \"\"\"Данная функция находит сочетание из n элементов по k\"\"\"\n",
    "    comb = factorial(n) // (factorial(k) * factorial(n - k))\n",
    "    return comb"
   ]
  },
  {
   "cell_type": "code",
   "execution_count": 19,
   "metadata": {},
   "outputs": [],
   "source": [
    "summ = combination(15, 2) + combination(15, 3) + combination(15, 5) + combination(15, 7) \\\n",
    "       + combination(15, 11) + combination(15, 13)"
   ]
  },
  {
   "cell_type": "code",
   "execution_count": 24,
   "metadata": {},
   "outputs": [
    {
     "data": {
      "text/plain": [
       "0.35"
      ]
     },
     "execution_count": 24,
     "metadata": {},
     "output_type": "execute_result"
    }
   ],
   "source": [
    "P = summ * 0.5 ** 15\n",
    "round(P, 2)"
   ]
  },
  {
   "cell_type": "markdown",
   "metadata": {},
   "source": [
    "#### Задание 2"
   ]
  },
  {
   "cell_type": "markdown",
   "metadata": {},
   "source": [
    "Создайте свою дискретную случайную величину с не менее, чем 10 значениями. Просемплируйте 1000 случайных значений, постройте гистограмму плотности распределения по выборке, посчитайте среднее, дисперсию и медиану."
   ]
  },
  {
   "cell_type": "markdown",
   "metadata": {},
   "source": [
    "Создайте свою дискретную случайную величину с не менее, чем 10 значениями:"
   ]
  },
  {
   "cell_type": "code",
   "execution_count": 44,
   "metadata": {},
   "outputs": [
    {
     "data": {
      "text/plain": [
       "[1, 2, 3, 5, 8, 13, 21, 34, 55, 89]"
      ]
     },
     "execution_count": 44,
     "metadata": {},
     "output_type": "execute_result"
    }
   ],
   "source": [
    "elements = list([1, 2, 3, 5, 8, 13, 21, 34, 55, 89])\n",
    "elements"
   ]
  },
  {
   "cell_type": "markdown",
   "metadata": {},
   "source": [
    "Просемплируйте 1000 случайных значений:"
   ]
  },
  {
   "cell_type": "code",
   "execution_count": 45,
   "metadata": {},
   "outputs": [],
   "source": [
    "probabilities = [0.1, 0.1, 0.1, 0.1, 0.1, 0.1, 0.1, 0.1, 0.1, 0.1]\n",
    "sample = np.random.choice(elements, 1000, p = probabilities)"
   ]
  },
  {
   "cell_type": "markdown",
   "metadata": {},
   "source": [
    "Постройте гистограмму плотности распределения по выборке:"
   ]
  },
  {
   "cell_type": "code",
   "execution_count": 46,
   "metadata": {},
   "outputs": [
    {
     "data": {
      "image/png": "[encoded data removed]",
      "text/plain": [
       "<Figure size 432x288 with 1 Axes>"
      ]
     },
     "metadata": {
      "needs_background": "light"
     },
     "output_type": "display_data"
    }
   ],
   "source": [
    "plt.hist(sample, 16, density = False, color = 'green')\n",
    "plt.show()"
   ]
  },
  {
   "cell_type": "markdown",
   "metadata": {},
   "source": [
    "Посчитайте среднее:"
   ]
  },
  {
   "cell_type": "code",
   "execution_count": 48,
   "metadata": {},
   "outputs": [
    {
     "data": {
      "text/plain": [
       "24.173"
      ]
     },
     "execution_count": 48,
     "metadata": {},
     "output_type": "execute_result"
    }
   ],
   "source": [
    "np.mean(sample)"
   ]
  },
  {
   "cell_type": "markdown",
   "metadata": {},
   "source": [
    "Посчитайте дисперсию:"
   ]
  },
  {
   "cell_type": "code",
   "execution_count": 50,
   "metadata": {},
   "outputs": [
    {
     "data": {
      "text/plain": [
       "797.145071"
      ]
     },
     "execution_count": 50,
     "metadata": {},
     "output_type": "execute_result"
    }
   ],
   "source": [
    "np.nanvar(sample)"
   ]
  },
  {
   "cell_type": "markdown",
   "metadata": {},
   "source": [
    "Посчитайте медиану:"
   ]
  },
  {
   "cell_type": "code",
   "execution_count": 53,
   "metadata": {},
   "outputs": [
    {
     "data": {
      "text/plain": [
       "13.0"
      ]
     },
     "execution_count": 53,
     "metadata": {},
     "output_type": "execute_result"
    }
   ],
   "source": [
    "statistics.median(sample)"
   ]
  },
  {
   "cell_type": "markdown",
   "metadata": {},
   "source": [
    "### Уровень 1"
   ]
  },
  {
   "cell_type": "markdown",
   "metadata": {},
   "source": [
    "#### Задание 3"
   ]
  },
  {
   "cell_type": "markdown",
   "metadata": {},
   "source": [
    "Пусть брошены 3 уравновешенные монеты.  \n",
    "Рассмотрим 3 события:  \n",
    "A1 - монеты 1 и 2 упали одной и той же стороной,  \n",
    "A2 - монеты 2 и 3 упали одной и той же стороной,  \n",
    "A3 - монеты 1 и 3 упали одной и той же стороной.  \n",
    "Покажите, почему эти 3 события (A1, A2, A3) являются попарно независимыми, но не являются независимыми в совокупности."
   ]
  },
  {
   "cell_type": "markdown",
   "metadata": {},
   "source": [
    "Создадим dataframe исходов, где 0 - орел, 1 - решка."
   ]
  },
  {
   "cell_type": "code",
   "execution_count": 57,
   "metadata": {},
   "outputs": [],
   "source": [
    "data = {'coin_1' : [0, 1, 0, 0, 1, 1, 0, 1],\n",
    "        'coin_2' : [0, 0, 1, 0, 1, 0, 1, 1],\n",
    "        'coin_3' : [0, 0, 0, 1, 0, 1, 1, 1],\n",
    "        'event_A1' : ['A1', '-', '-', 'A1', 'A1', '-', '-', 'A1'],\n",
    "        'event_A2' : ['A2', 'A2', '-', '-', '-', '-', 'A2', 'A2'],\n",
    "        'event_A3' : ['A3', '-', 'A3', '-', '-', 'A3', '-', 'A3']}\n",
    "data = pd.DataFrame(data)"
   ]
  },
  {
   "cell_type": "code",
   "execution_count": 58,
   "metadata": {},
   "outputs": [
    {
     "data": {
      "text/html": [
       "<div>\n",
       "<style scoped>\n",
       "    .dataframe tbody tr th:only-of-type {\n",
       "        vertical-align: middle;\n",
       "    }\n",
       "\n",
       "    .dataframe tbody tr th {\n",
       "        vertical-align: top;\n",
       "    }\n",
       "\n",
       "    .dataframe thead th {\n",
       "        text-align: right;\n",
       "    }\n",
       "</style>\n",
       "<table border=\"1\" class=\"dataframe\">\n",
       "  <thead>\n",
       "    <tr style=\"text-align: right;\">\n",
       "      <th></th>\n",
       "      <th>coin_1</th>\n",
       "      <th>coin_2</th>\n",
       "      <th>coin_3</th>\n",
       "      <th>event_A1</th>\n",
       "      <th>event_A2</th>\n",
       "      <th>event_A3</th>\n",
       "    </tr>\n",
       "  </thead>\n",
       "  <tbody>\n",
       "    <tr>\n",
       "      <th>0</th>\n",
       "      <td>0</td>\n",
       "      <td>0</td>\n",
       "      <td>0</td>\n",
       "      <td>A1</td>\n",
       "      <td>A2</td>\n",
       "      <td>A3</td>\n",
       "    </tr>\n",
       "    <tr>\n",
       "      <th>1</th>\n",
       "      <td>1</td>\n",
       "      <td>0</td>\n",
       "      <td>0</td>\n",
       "      <td>-</td>\n",
       "      <td>A2</td>\n",
       "      <td>-</td>\n",
       "    </tr>\n",
       "    <tr>\n",
       "      <th>2</th>\n",
       "      <td>0</td>\n",
       "      <td>1</td>\n",
       "      <td>0</td>\n",
       "      <td>-</td>\n",
       "      <td>-</td>\n",
       "      <td>A3</td>\n",
       "    </tr>\n",
       "    <tr>\n",
       "      <th>3</th>\n",
       "      <td>0</td>\n",
       "      <td>0</td>\n",
       "      <td>1</td>\n",
       "      <td>A1</td>\n",
       "      <td>-</td>\n",
       "      <td>-</td>\n",
       "    </tr>\n",
       "    <tr>\n",
       "      <th>4</th>\n",
       "      <td>1</td>\n",
       "      <td>1</td>\n",
       "      <td>0</td>\n",
       "      <td>A1</td>\n",
       "      <td>-</td>\n",
       "      <td>-</td>\n",
       "    </tr>\n",
       "    <tr>\n",
       "      <th>5</th>\n",
       "      <td>1</td>\n",
       "      <td>0</td>\n",
       "      <td>1</td>\n",
       "      <td>-</td>\n",
       "      <td>-</td>\n",
       "      <td>A3</td>\n",
       "    </tr>\n",
       "    <tr>\n",
       "      <th>6</th>\n",
       "      <td>0</td>\n",
       "      <td>1</td>\n",
       "      <td>1</td>\n",
       "      <td>-</td>\n",
       "      <td>A2</td>\n",
       "      <td>-</td>\n",
       "    </tr>\n",
       "    <tr>\n",
       "      <th>7</th>\n",
       "      <td>1</td>\n",
       "      <td>1</td>\n",
       "      <td>1</td>\n",
       "      <td>A1</td>\n",
       "      <td>A2</td>\n",
       "      <td>A3</td>\n",
       "    </tr>\n",
       "  </tbody>\n",
       "</table>\n",
       "</div>"
      ],
      "text/plain": [
       "   coin_1  coin_2  coin_3 event_A1 event_A2 event_A3\n",
       "0       0       0       0       A1       A2       A3\n",
       "1       1       0       0        -       A2        -\n",
       "2       0       1       0        -        -       A3\n",
       "3       0       0       1       A1        -        -\n",
       "4       1       1       0       A1        -        -\n",
       "5       1       0       1        -        -       A3\n",
       "6       0       1       1        -       A2        -\n",
       "7       1       1       1       A1       A2       A3"
      ]
     },
     "execution_count": 58,
     "metadata": {},
     "output_type": "execute_result"
    }
   ],
   "source": [
    "data"
   ]
  },
  {
   "cell_type": "markdown",
   "metadata": {},
   "source": [
    "На примере событий А1 и А2 покажем, что всего возможно 4 исхода:\n",
    "* когда не произошло ни одно из событий (строки с индексом 2 и 5);\n",
    "* когда произошло событие А1, но не произошло событие А2 (строки 3 и 4);\n",
    "* когда произошло событие А2, но не произошло событие А1 (строки 1 и 6);\n",
    "* когда произошли оба события (строки 0 и 7). \n",
    "\n",
    "Вероятность наступления события A1: $P(A1) = \\frac{1}{2} $.  \n",
    "Вероятность наступления события A2 : $P(A2) = \\frac{1}{2} $.  \n",
    "Вероятность наступления события А1 и А2:  $P(A1 \\cdot A2) = P(A1) \\cdot P(A2) = \\frac{1}{2} \\cdot \\frac{1}{2} = \\frac{1}{4} $ . \n",
    "\n",
    "Наступление события А1 не влияет на событие А2. Наступление события А2 не влияет на событие А1.   \n",
    "Аналогичные рассуждения возможны пары событий А2 и А3, а также для А1 и А3.  \n",
    "Однако, при совместном анализе событий А1, А2, А3 получаем, что, например, если событие А1 и А2 произошли (строки 0 и 7), то в этом случае событие А3 всегда происходит, те это событие становится достоверным.   \n",
    "Если события А1 и А2 не произошли (строки 2 и 5), то событие А3 происходит, те оно становится достоверным.  \n",
    "При этом, если произошло событие А1 и не произошло событие А2 (или наоборот), то событие А3 становится невозможным.  \n",
    "Таким образом, вероятность наступления события А3 зависит от совместного наступления событий А1 и А2, а следовательно, эти собыятия не являются независимыми в совокупности."
   ]
  },
  {
   "cell_type": "markdown",
   "metadata": {},
   "source": [
    "#### Задание 4 (формула полной вероятности)"
   ]
  },
  {
   "cell_type": "markdown",
   "metadata": {},
   "source": [
    "В магазин привезли устройства с 3-х разных предприятий. Соотношение устройств следующее: 20% - продукция первого предприятия, 30% - продукция второго предприятия, 50% - продукция третьего предприятия; далее, 10% продукции первого предприятия высшего сорта, на втором предприятии - 5% и на третьем - 20% продукции высшего сорта. Найти вероятность того, что случайно купленная новая продукция окажется высшего сорта."
   ]
  },
  {
   "cell_type": "markdown",
   "metadata": {},
   "source": [
    "Обозначим $H_1, H_2, H_3$ события, состоящие в том, что устройство принадлежит первому, второму и третьему предприятию соответственно. Тогда их вероятности равны:  \n",
    "\n",
    "$P(H_1) = \\frac {2}{10}$,\n",
    "\n",
    "$P(H_2) = \\frac {3}{10}$,\n",
    "\n",
    "$P(H_3) = \\frac {5}{10}$.\n",
    "\n",
    "\n",
    "Событие А - купленное устройство - высшего сорта. Тогда условные вероятности события А равны:  \n",
    "\n",
    "$P(A|H_1) = \\frac {10}{100}$, \n",
    "\n",
    "$P(A|H_2) = \\frac {5}{100}$, \n",
    "\n",
    "$P(A|H_3) = \\frac {20}{100}$.\n",
    "\n",
    "\n",
    "Согласно формуле полной вероятности, найдем:\n",
    "\n",
    "$P(A) = \\frac {2}{10} \\cdot \\frac {10}{100} + \\frac {3}{10} \\cdot \\frac {5}{100} + \\frac {5}{10} \\cdot \\frac {20}{100} = 0,02 + 0,015 + 0,1 =0,135 $"
   ]
  },
  {
   "cell_type": "code",
   "execution_count": null,
   "metadata": {},
   "outputs": [],
   "source": []
  }
 ],
 "metadata": {
  "kernelspec": {
   "display_name": "Python 3",
   "language": "python",
   "name": "python3"
  },
  "language_info": {
   "codemirror_mode": {
    "name": "ipython",
    "version": 3
   },
   "file_extension": ".py",
   "mimetype": "text/x-python",
   "name": "python",
   "nbconvert_exporter": "python",
   "pygments_lexer": "ipython3",
   "version": "3.7.6"
  }
 },
 "nbformat": 4,
 "nbformat_minor": 4
}
