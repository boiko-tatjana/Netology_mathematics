{
 "cells": [
  {
   "cell_type": "code",
   "execution_count": 73,
   "metadata": {},
   "outputs": [],
   "source": [
    "import matplotlib.pyplot as plt\n",
    "import numpy as np\n",
    "import pandas as pd\n",
    "\n",
    "from scipy.optimize import minimize\n",
    "%matplotlib inline\n",
    "from sklearn.decomposition import PCA\n",
    "from sympy import diff, symbols, cos, sin, tan\n",
    "from scipy.optimize import differential_evolution\n",
    "from scipy.misc import derivative\n",
    "import scipy.stats as sts"
   ]
  },
  {
   "cell_type": "markdown",
   "metadata": {},
   "source": [
    "### Задание 1"
   ]
  },
  {
   "cell_type": "markdown",
   "metadata": {},
   "source": [
    "Дана матрица рейтингов фильмов (строки - пользователи (10 человек), столбцы - фильмы (15 фильмов))"
   ]
  },
  {
   "cell_type": "code",
   "execution_count": 2,
   "metadata": {},
   "outputs": [],
   "source": [
    "raitings = np.array([[ 4,  4,  9,  4,  1,  6, 10,  7,  9,  6,  9,  2,  8,  6,  6],\n",
    "                     [ 9,  2,  5, 10,  7,  8, 10,  5,  6,  2,  1,  6,  8,  9,  7],\n",
    "                     [ 1,  6,  8,  8,  4,  9,  3,  8, 10,  5,  2,  6,  8,  1,  6],\n",
    "                     [ 6,  1,  9,  7,  7,  9,  2,  3,  5,  1,  6,  6,  3,  2,  7],\n",
    "                     [ 3,  7,  3,  5,  7,  9,  9,  6,  2,  9,  1,  2,  8, 10,  6],\n",
    "                     [ 8,  3,  7,  3,  8,  6,  1,  8,  8,  6,  1,  9,  4, 10,  1],\n",
    "                     [ 9,  8,  4,  8,  8, 10,  6,  1,  1,  2,  9,  5,  2,  7,  2],\n",
    "                     [ 4,  1,  6,  4,  3, 10,  4,  4,  2,  8,  7,  9,  3,  8,  3],\n",
    "                     [ 2,  7,  7,  6, 10,  6,  8,  9,  8,  6, 10,  1,  7, 10,  4],\n",
    "                     [ 5, 10,  8,  8,  9,  7,  2,  9,  9, 10,  8,  8,  8,  6, 10]])"
   ]
  },
  {
   "cell_type": "markdown",
   "metadata": {},
   "source": [
    "a) Необходимо найти наиболее похожего пользователя по косинусной метрике для каждого из (ответ: 10 пар вида (x, y), где y - наиболее похожий пользователь на пользователя x).\n",
    "\n",
    "b) Предположим, вы захотели сжать признаковые описания пользователя с 15 фильмов, до, скажем, 5-ти признаков, как вы это сделаете?"
   ]
  },
  {
   "cell_type": "markdown",
   "metadata": {},
   "source": [
    "Необходимо найти наиболее похожего пользователя по косинусной метрике для каждого из (ответ: 10 пар вида (x, y), где y - наиболее похожий пользователь на пользователя x)."
   ]
  },
  {
   "cell_type": "code",
   "execution_count": 3,
   "metadata": {},
   "outputs": [],
   "source": [
    "def cosine(A, B):\n",
    "    # длины векторов\n",
    "    A_length = np.linalg.norm(A)\n",
    "    B_length = np.linalg.norm(B)\n",
    "    \n",
    "    if (A_length * B_length) != 0:\n",
    "        return np.dot(A, B) / (A_length * B_length)\n",
    "    else:\n",
    "        return 0"
   ]
  },
  {
   "cell_type": "code",
   "execution_count": 16,
   "metadata": {},
   "outputs": [
    {
     "name": "stdout",
     "output_type": "stream",
     "text": [
      "Пользователь  0 похож на пользователя 8\n",
      "Пользователь  1 похож на пользователя 4\n",
      "Пользователь  2 похож на пользователя 9\n",
      "Пользователь  3 похож на пользователя 9\n",
      "Пользователь  4 похож на пользователя 8\n",
      "Пользователь  5 похож на пользователя 9\n",
      "Пользователь  6 похож на пользователя 3\n",
      "Пользователь  7 похож на пользователя 5\n",
      "Пользователь  8 похож на пользователя 0\n",
      "Пользователь  9 похож на пользователя 2\n"
     ]
    }
   ],
   "source": [
    "C = np.zeros((len(raitings), len(raitings)))\n",
    "for user_1 in range(len(raitings)):\n",
    "    max_dist = 0\n",
    "    user_max_dist = 0\n",
    "    A = raitings[user_1, :]\n",
    "    for user_2 in range(len(raitings)):\n",
    "        B = raitings[user_2, :]\n",
    "        cosine_dist = cosine(A, B)\n",
    "        C[user_1, user_2] = round(cosine_dist, 2)\n",
    "        if cosine_dist > max_dist:\n",
    "            if user_2 != user_1:\n",
    "                max_dist = cosine_dist\n",
    "                user_max_dist = user_2       \n",
    "    print('Пользователь ', user_1, 'похож на пользователя', user_max_dist)      "
   ]
  },
  {
   "cell_type": "code",
   "execution_count": 17,
   "metadata": {},
   "outputs": [
    {
     "data": {
      "text/plain": [
       "array([[1.  , 0.83, 0.85, 0.78, 0.82, 0.74, 0.73, 0.81, 0.91, 0.86],\n",
       "       [0.83, 1.  , 0.81, 0.85, 0.87, 0.83, 0.83, 0.8 , 0.83, 0.82],\n",
       "       [0.85, 0.81, 1.  , 0.85, 0.78, 0.79, 0.68, 0.76, 0.82, 0.92],\n",
       "       [0.78, 0.85, 0.85, 1.  , 0.69, 0.79, 0.83, 0.83, 0.78, 0.86],\n",
       "       [0.82, 0.87, 0.78, 0.69, 1.  , 0.78, 0.78, 0.81, 0.88, 0.85],\n",
       "       [0.74, 0.83, 0.79, 0.79, 0.78, 1.  , 0.74, 0.84, 0.81, 0.86],\n",
       "       [0.73, 0.83, 0.68, 0.83, 0.78, 0.74, 1.  , 0.83, 0.81, 0.79],\n",
       "       [0.81, 0.8 , 0.76, 0.83, 0.81, 0.84, 0.83, 1.  , 0.8 , 0.84],\n",
       "       [0.91, 0.83, 0.82, 0.78, 0.88, 0.81, 0.81, 0.8 , 1.  , 0.9 ],\n",
       "       [0.86, 0.82, 0.92, 0.86, 0.85, 0.86, 0.79, 0.84, 0.9 , 1.  ]])"
      ]
     },
     "execution_count": 17,
     "metadata": {},
     "output_type": "execute_result"
    }
   ],
   "source": [
    "C"
   ]
  },
  {
   "cell_type": "markdown",
   "metadata": {},
   "source": [
    "Предположим, вы захотели сжать признаковые описания пользователя с 15 фильмов, до, скажем, 5-ти признаков, как вы это сделаете?"
   ]
  },
  {
   "cell_type": "markdown",
   "metadata": {},
   "source": [
    "Воспользуемся PCA:"
   ]
  },
  {
   "cell_type": "code",
   "execution_count": 19,
   "metadata": {},
   "outputs": [
    {
     "data": {
      "text/plain": [
       "array([[-5.30986101,  1.92919845, -4.93300027,  2.70188013,  5.50497886],\n",
       "       [ 2.87763403,  2.71659559,  1.40592782,  7.26325751, -4.50322291],\n",
       "       [-4.94010408, -6.68861167, -0.94550184,  3.61556661, -0.68969272],\n",
       "       [ 5.14939908, -6.28027284, -4.65978558,  1.09024004, -1.01471112],\n",
       "       [-1.37488691,  7.54357985,  4.00834369,  2.1284001 , -0.16324949],\n",
       "       [ 2.65341956, -3.77075601,  8.58430748, -1.46628319,  1.67401769],\n",
       "       [ 8.61573944,  3.78603335, -4.02721027, -4.37582577, -3.13880277],\n",
       "       [ 5.39658258, -1.0170466 ,  1.01456742, -1.89512837,  6.54883538],\n",
       "       [-5.7843488 ,  5.29857107, -1.48083611, -3.71295542,  0.21312695],\n",
       "       [-7.2835739 , -3.51729118,  1.03318766, -5.34915166, -4.43127987]])"
      ]
     },
     "execution_count": 19,
     "metadata": {},
     "output_type": "execute_result"
    }
   ],
   "source": [
    "pca = PCA(n_components = 5)\n",
    "pca.fit(raitings)\n",
    "raitings_1 = pca.transform(raitings)\n",
    "raitings_1"
   ]
  },
  {
   "cell_type": "code",
   "execution_count": 20,
   "metadata": {},
   "outputs": [
    {
     "name": "stdout",
     "output_type": "stream",
     "text": [
      "Пользователь  0 похож на пользователя 8\n",
      "Пользователь  1 похож на пользователя 4\n",
      "Пользователь  2 похож на пользователя 9\n",
      "Пользователь  3 похож на пользователя 6\n",
      "Пользователь  4 похож на пользователя 1\n",
      "Пользователь  5 похож на пользователя 7\n",
      "Пользователь  6 похож на пользователя 3\n",
      "Пользователь  7 похож на пользователя 5\n",
      "Пользователь  8 похож на пользователя 0\n",
      "Пользователь  9 похож на пользователя 8\n"
     ]
    }
   ],
   "source": [
    "C_1 = np.zeros((len(raitings_1), len(raitings_1)))\n",
    "for user_1 in range(len(raitings_1)):\n",
    "    max_dist = 0\n",
    "    user_max_dist = 0\n",
    "    A = raitings_1[user_1, :]\n",
    "    for user_2 in range(len(raitings_1)):\n",
    "        B = raitings_1[user_2, :]\n",
    "        cosine_dist = cosine(A, B)\n",
    "        C[user_1, user_2] = round(cosine_dist, 2)\n",
    "        if cosine_dist > max_dist:\n",
    "            if user_2 != user_1:\n",
    "                max_dist = cosine_dist\n",
    "                user_max_dist = user_2       \n",
    "    print('Пользователь ', user_1, 'похож на пользователя', user_max_dist) "
   ]
  },
  {
   "cell_type": "markdown",
   "metadata": {},
   "source": [
    "Для пользователей 4, 5 и 9 похожие пользователи стали иными..."
   ]
  },
  {
   "cell_type": "markdown",
   "metadata": {},
   "source": [
    "### Задание 2"
   ]
  },
  {
   "cell_type": "markdown",
   "metadata": {},
   "source": [
    "Вычислите производную $tg^2(sin(x) + cos(2x+3))$ в точке $x_0=1$ на python и на бумаге (просто подставить точку в производную и ничего не упрощать)."
   ]
  },
  {
   "cell_type": "markdown",
   "metadata": {},
   "source": [
    "$f(x) = tg^2(sin(x) + cos(2x+3))$  \n",
    "\n",
    "$ f'(x) = 2 \\cdot tg(sin(x) + cos(2x+3)) \\cdot \\frac {1}{cos^2(sin(x) + cos(2x+3))} \\cdot (cos(x) - sin(2 \\cdot x +3) \\cdot 2) =\\\\ =\\frac {2 \\cdot sin(sin(x) + cos(2x+3))}{cos^3(sin(x) + cos(2x+3))} \\cdot (cos(x) - sin(2 \\cdot x +3) \\cdot 2)$  \n",
    "\n",
    "$ f'(1) = \\frac {2 \\cdot sin(sin(1) + cos(5))}{cos^3(sin(1) + cos(5))} \\cdot (cos(1) - sin(5) \\cdot 2)$  "
   ]
  },
  {
   "cell_type": "code",
   "execution_count": 42,
   "metadata": {},
   "outputs": [
    {
     "data": {
      "text/plain": [
       "55.385917635337854"
      ]
     },
     "execution_count": 42,
     "metadata": {},
     "output_type": "execute_result"
    }
   ],
   "source": [
    "dif_x = (2*np.sin(np.sin(1) + np.cos(5)) / ((np.cos(np.sin(1) + np.cos(5))))**3) * (np.cos(1) - np.sin(5)*2)\n",
    "dif_x  "
   ]
  },
  {
   "cell_type": "code",
   "execution_count": 55,
   "metadata": {},
   "outputs": [
    {
     "data": {
      "text/plain": [
       "55.3859176464222"
      ]
     },
     "execution_count": 55,
     "metadata": {},
     "output_type": "execute_result"
    }
   ],
   "source": [
    "def f(x):\n",
    "    return (np.tan(np.sin(x) + np.cos(2*x+3)))**2\n",
    "derivative(f, 1.0, dx=1e-6)"
   ]
  },
  {
   "cell_type": "markdown",
   "metadata": {},
   "source": [
    "### Задание 3"
   ]
  },
  {
   "cell_type": "markdown",
   "metadata": {},
   "source": [
    "Дана функция с неизвестными параметрами a и b, вам также известны значения функции fx в точках x. Найдите оптимальные параметры a, b, минимизирующие абсолютную ошибку error"
   ]
  },
  {
   "cell_type": "code",
   "execution_count": 58,
   "metadata": {},
   "outputs": [],
   "source": [
    "def f(x, a, b):\n",
    "    return np.e**a * np.sin(b*x) + x"
   ]
  },
  {
   "cell_type": "code",
   "execution_count": 59,
   "metadata": {},
   "outputs": [],
   "source": [
    "x = np.array([0.        , 0.26315789, 0.52631579, 0.78947368, 1.05263158,\n",
    "              1.31578947, 1.57894737, 1.84210526, 2.10526316, 2.36842105,\n",
    "              2.63157895, 2.89473684, 3.15789474, 3.42105263, 3.68421053,\n",
    "              3.94736842, 4.21052632, 4.47368421, 4.73684211, 5.        ])"
   ]
  },
  {
   "cell_type": "code",
   "execution_count": 60,
   "metadata": {},
   "outputs": [],
   "source": [
    "fx = np.array([  0.        , -12.01819092, -18.90968634, -17.68786571,\n",
    "                -8.7529108 ,   4.27524517,  16.06801336,  21.81250213,\n",
    "                19.22059845,   9.48411207,  -3.22273056, -13.48576488,\n",
    "               -16.91096359, -11.95866834,  -0.58630088,  12.56873816,\n",
    "                22.12489421,  24.20292139,  18.04522521,   6.33211092])"
   ]
  },
  {
   "cell_type": "code",
   "execution_count": 61,
   "metadata": {},
   "outputs": [
    {
     "data": {
      "image/png": "[encoded data removed]",
      "text/plain": [
       "<Figure size 432x288 with 1 Axes>"
      ]
     },
     "metadata": {
      "needs_background": "light"
     },
     "output_type": "display_data"
    }
   ],
   "source": [
    "plt.plot(x, fx)\n",
    "plt.show()"
   ]
  },
  {
   "cell_type": "code",
   "execution_count": 62,
   "metadata": {},
   "outputs": [],
   "source": [
    "def error(params):\n",
    "    return np.sum(np.abs(fx - f(x, params[0], params[1])))"
   ]
  },
  {
   "cell_type": "code",
   "execution_count": 63,
   "metadata": {},
   "outputs": [],
   "source": [
    "bounds = [(-10, 10), (-10, 10)]\n",
    "result = differential_evolution(error, bounds, seed=42)"
   ]
  },
  {
   "cell_type": "code",
   "execution_count": 64,
   "metadata": {},
   "outputs": [
    {
     "data": {
      "text/plain": [
       "     fun: 1.5130289208187264e-06\n",
       " message: 'Optimization terminated successfully.'\n",
       "    nfev: 2073\n",
       "     nit: 66\n",
       " success: True\n",
       "       x: array([ 3. , -2.5])"
      ]
     },
     "execution_count": 64,
     "metadata": {},
     "output_type": "execute_result"
    }
   ],
   "source": [
    "result"
   ]
  },
  {
   "cell_type": "code",
   "execution_count": 65,
   "metadata": {},
   "outputs": [],
   "source": [
    "def g(x):\n",
    "    return np.e**result.x[0] * np.sin(result.x[1]*x) + x"
   ]
  },
  {
   "cell_type": "code",
   "execution_count": 66,
   "metadata": {},
   "outputs": [],
   "source": [
    "h = []\n",
    "er = []\n",
    "for i in range(len(x)):\n",
    "    h.append(g(x[i]))\n",
    "    er.append(np.abs(fx[i] - g(x[i])))"
   ]
  },
  {
   "cell_type": "code",
   "execution_count": 67,
   "metadata": {},
   "outputs": [
    {
     "data": {
      "image/png": "[encoded data removed]",
      "text/plain": [
       "<Figure size 432x288 with 1 Axes>"
      ]
     },
     "metadata": {
      "needs_background": "light"
     },
     "output_type": "display_data"
    }
   ],
   "source": [
    "plt.plot(x, fx , 'b-')\n",
    "plt.plot(x, h, 'g o')\n",
    "plt.grid()\n",
    "plt.show()"
   ]
  },
  {
   "cell_type": "code",
   "execution_count": 70,
   "metadata": {},
   "outputs": [],
   "source": [
    "d = {'x': x, 'fx': fx, 'gx' : h, 'error' : er}\n",
    "result = pd.DataFrame(data =d)"
   ]
  },
  {
   "cell_type": "code",
   "execution_count": 71,
   "metadata": {},
   "outputs": [
    {
     "data": {
      "text/html": [
       "<div>\n",
       "<style scoped>\n",
       "    .dataframe tbody tr th:only-of-type {\n",
       "        vertical-align: middle;\n",
       "    }\n",
       "\n",
       "    .dataframe tbody tr th {\n",
       "        vertical-align: top;\n",
       "    }\n",
       "\n",
       "    .dataframe thead th {\n",
       "        text-align: right;\n",
       "    }\n",
       "</style>\n",
       "<table border=\"1\" class=\"dataframe\">\n",
       "  <thead>\n",
       "    <tr style=\"text-align: right;\">\n",
       "      <th></th>\n",
       "      <th>x</th>\n",
       "      <th>fx</th>\n",
       "      <th>gx</th>\n",
       "      <th>error</th>\n",
       "    </tr>\n",
       "  </thead>\n",
       "  <tbody>\n",
       "    <tr>\n",
       "      <th>0</th>\n",
       "      <td>0.000000</td>\n",
       "      <td>0.000000</td>\n",
       "      <td>0.000000</td>\n",
       "      <td>0.000000e+00</td>\n",
       "    </tr>\n",
       "    <tr>\n",
       "      <th>1</th>\n",
       "      <td>0.263158</td>\n",
       "      <td>-12.018191</td>\n",
       "      <td>-12.018191</td>\n",
       "      <td>1.850566e-07</td>\n",
       "    </tr>\n",
       "    <tr>\n",
       "      <th>2</th>\n",
       "      <td>0.526316</td>\n",
       "      <td>-18.909686</td>\n",
       "      <td>-18.909686</td>\n",
       "      <td>1.163715e-08</td>\n",
       "    </tr>\n",
       "    <tr>\n",
       "      <th>3</th>\n",
       "      <td>0.789474</td>\n",
       "      <td>-17.687866</td>\n",
       "      <td>-17.687866</td>\n",
       "      <td>9.369365e-08</td>\n",
       "    </tr>\n",
       "    <tr>\n",
       "      <th>4</th>\n",
       "      <td>1.052632</td>\n",
       "      <td>-8.752911</td>\n",
       "      <td>-8.752911</td>\n",
       "      <td>4.460119e-08</td>\n",
       "    </tr>\n",
       "    <tr>\n",
       "      <th>5</th>\n",
       "      <td>1.315789</td>\n",
       "      <td>4.275245</td>\n",
       "      <td>4.275245</td>\n",
       "      <td>1.903469e-07</td>\n",
       "    </tr>\n",
       "    <tr>\n",
       "      <th>6</th>\n",
       "      <td>1.578947</td>\n",
       "      <td>16.068013</td>\n",
       "      <td>16.068013</td>\n",
       "      <td>5.898660e-08</td>\n",
       "    </tr>\n",
       "    <tr>\n",
       "      <th>7</th>\n",
       "      <td>1.842105</td>\n",
       "      <td>21.812502</td>\n",
       "      <td>21.812502</td>\n",
       "      <td>1.379935e-08</td>\n",
       "    </tr>\n",
       "    <tr>\n",
       "      <th>8</th>\n",
       "      <td>2.105263</td>\n",
       "      <td>19.220598</td>\n",
       "      <td>19.220598</td>\n",
       "      <td>5.025855e-08</td>\n",
       "    </tr>\n",
       "    <tr>\n",
       "      <th>9</th>\n",
       "      <td>2.368421</td>\n",
       "      <td>9.484112</td>\n",
       "      <td>9.484112</td>\n",
       "      <td>1.183651e-07</td>\n",
       "    </tr>\n",
       "    <tr>\n",
       "      <th>10</th>\n",
       "      <td>2.631579</td>\n",
       "      <td>-3.222731</td>\n",
       "      <td>-3.222731</td>\n",
       "      <td>1.186680e-07</td>\n",
       "    </tr>\n",
       "    <tr>\n",
       "      <th>11</th>\n",
       "      <td>2.894737</td>\n",
       "      <td>-13.485765</td>\n",
       "      <td>-13.485765</td>\n",
       "      <td>5.903541e-08</td>\n",
       "    </tr>\n",
       "    <tr>\n",
       "      <th>12</th>\n",
       "      <td>3.157895</td>\n",
       "      <td>-16.910964</td>\n",
       "      <td>-16.910964</td>\n",
       "      <td>1.024919e-08</td>\n",
       "    </tr>\n",
       "    <tr>\n",
       "      <th>13</th>\n",
       "      <td>3.421053</td>\n",
       "      <td>-11.958668</td>\n",
       "      <td>-11.958668</td>\n",
       "      <td>5.173127e-08</td>\n",
       "    </tr>\n",
       "    <tr>\n",
       "      <th>14</th>\n",
       "      <td>3.684211</td>\n",
       "      <td>-0.586301</td>\n",
       "      <td>-0.586301</td>\n",
       "      <td>1.807886e-07</td>\n",
       "    </tr>\n",
       "    <tr>\n",
       "      <th>15</th>\n",
       "      <td>3.947368</td>\n",
       "      <td>12.568738</td>\n",
       "      <td>12.568738</td>\n",
       "      <td>4.898620e-08</td>\n",
       "    </tr>\n",
       "    <tr>\n",
       "      <th>16</th>\n",
       "      <td>4.210526</td>\n",
       "      <td>22.124894</td>\n",
       "      <td>22.124894</td>\n",
       "      <td>1.005837e-07</td>\n",
       "    </tr>\n",
       "    <tr>\n",
       "      <th>17</th>\n",
       "      <td>4.473684</td>\n",
       "      <td>24.202921</td>\n",
       "      <td>24.202921</td>\n",
       "      <td>6.542678e-09</td>\n",
       "    </tr>\n",
       "    <tr>\n",
       "      <th>18</th>\n",
       "      <td>4.736842</td>\n",
       "      <td>18.045225</td>\n",
       "      <td>18.045225</td>\n",
       "      <td>1.694231e-07</td>\n",
       "    </tr>\n",
       "    <tr>\n",
       "      <th>19</th>\n",
       "      <td>5.000000</td>\n",
       "      <td>6.332111</td>\n",
       "      <td>6.332111</td>\n",
       "      <td>2.758354e-10</td>\n",
       "    </tr>\n",
       "  </tbody>\n",
       "</table>\n",
       "</div>"
      ],
      "text/plain": [
       "           x         fx         gx         error\n",
       "0   0.000000   0.000000   0.000000  0.000000e+00\n",
       "1   0.263158 -12.018191 -12.018191  1.850566e-07\n",
       "2   0.526316 -18.909686 -18.909686  1.163715e-08\n",
       "3   0.789474 -17.687866 -17.687866  9.369365e-08\n",
       "4   1.052632  -8.752911  -8.752911  4.460119e-08\n",
       "5   1.315789   4.275245   4.275245  1.903469e-07\n",
       "6   1.578947  16.068013  16.068013  5.898660e-08\n",
       "7   1.842105  21.812502  21.812502  1.379935e-08\n",
       "8   2.105263  19.220598  19.220598  5.025855e-08\n",
       "9   2.368421   9.484112   9.484112  1.183651e-07\n",
       "10  2.631579  -3.222731  -3.222731  1.186680e-07\n",
       "11  2.894737 -13.485765 -13.485765  5.903541e-08\n",
       "12  3.157895 -16.910964 -16.910964  1.024919e-08\n",
       "13  3.421053 -11.958668 -11.958668  5.173127e-08\n",
       "14  3.684211  -0.586301  -0.586301  1.807886e-07\n",
       "15  3.947368  12.568738  12.568738  4.898620e-08\n",
       "16  4.210526  22.124894  22.124894  1.005837e-07\n",
       "17  4.473684  24.202921  24.202921  6.542678e-09\n",
       "18  4.736842  18.045225  18.045225  1.694231e-07\n",
       "19  5.000000   6.332111   6.332111  2.758354e-10"
      ]
     },
     "execution_count": 71,
     "metadata": {},
     "output_type": "execute_result"
    }
   ],
   "source": [
    "result"
   ]
  },
  {
   "cell_type": "markdown",
   "metadata": {},
   "source": [
    "### Задание 4"
   ]
  },
  {
   "cell_type": "markdown",
   "metadata": {},
   "source": [
    "Создайте собственную дискретную случайную величину с 20 значениями. Сгенерируйте 1000 выборок размера 50. Посчитайте среднее для каждой выборки. Постройте гистограмму распределения средних."
   ]
  },
  {
   "cell_type": "code",
   "execution_count": 74,
   "metadata": {},
   "outputs": [],
   "source": [
    "x = np.linspace(0,10,1001)\n",
    "rv = sts.expon(2)\n",
    "sample = rv.rvs(size=20)"
   ]
  },
  {
   "cell_type": "code",
   "execution_count": 75,
   "metadata": {},
   "outputs": [
    {
     "data": {
      "image/png": "[encoded data removed]",
      "text/plain": [
       "<Figure size 432x288 with 1 Axes>"
      ]
     },
     "metadata": {
      "needs_background": "light"
     },
     "output_type": "display_data"
    }
   ],
   "source": [
    "x = np.linspace(0,10,1001)\n",
    "pdf = rv.pdf(x)\n",
    "plt.hist(sample, density=True, bins=30, label='sample histogram')\n",
    "plt.plot(x, pdf, label='theoretical pdf', alpha=5)\n",
    "plt.legend()\n",
    "plt.ylabel('fraction of samples, $f(x)$')\n",
    "plt.xlabel('$x$')\n",
    "plt.show()"
   ]
  },
  {
   "cell_type": "code",
   "execution_count": 80,
   "metadata": {},
   "outputs": [
    {
     "data": {
      "image/png": "[encoded data removed]",
      "text/plain": [
       "<Figure size 432x288 with 1 Axes>"
      ]
     },
     "metadata": {
      "needs_background": "light"
     },
     "output_type": "display_data"
    }
   ],
   "source": [
    "number_list = 50\n",
    "\n",
    "samples_count = 1000\n",
    "\n",
    "a = np.array([])\n",
    "for index in range(samples_count):\n",
    "    sample = rv.rvs(size = number_list)\n",
    "    a = np.append(a, sample.mean())\n",
    "\n",
    "label = 'sample of ' + str(number_list) + ' histogram'\n",
    "plt.axis([2, 4, 0, 4])\n",
    "plt.hist(a, density = True, label = label, bins = 30)\n",
    "\n",
    "plt.legend()\n",
    "plt.ylabel('samples means')\n",
    "plt.xlabel('$x$')\n",
    "\n",
    "plt.grid()\n",
    "plt.show()"
   ]
  },
  {
   "cell_type": "markdown",
   "metadata": {},
   "source": [
    "### Задание 5"
   ]
  },
  {
   "cell_type": "markdown",
   "metadata": {},
   "source": [
    "Найдите собственные значения и собственные вектора матрицы (на python и на бумаге)\n",
    "\n",
    "[[1, 4],\n",
    "\n",
    "[1, 1]]"
   ]
  },
  {
   "cell_type": "code",
   "execution_count": 81,
   "metadata": {},
   "outputs": [
    {
     "name": "stdout",
     "output_type": "stream",
     "text": [
      "[[1 4]\n",
      " [1 1]]\n"
     ]
    }
   ],
   "source": [
    "N = np.array([[1, 4],\n",
    "              [1, 1]])\n",
    "print(N)"
   ]
  },
  {
   "cell_type": "code",
   "execution_count": 84,
   "metadata": {},
   "outputs": [],
   "source": [
    "n, v = np.linalg.eig(N)"
   ]
  },
  {
   "cell_type": "code",
   "execution_count": 85,
   "metadata": {},
   "outputs": [
    {
     "name": "stdout",
     "output_type": "stream",
     "text": [
      "Собственное значение 3.0000000000000004\n",
      "соответствующий ему собственный вектор [0.89442719 0.4472136 ]\n",
      "Собственное значение -0.9999999999999996\n",
      "соответствующий ему собственный вектор [-0.89442719  0.4472136 ]\n"
     ]
    }
   ],
   "source": [
    "for i in range(len(n)):\n",
    "    print(\"Собственное значение \" + str(n[i]))\n",
    "    print(\"соответствующий ему собственный вектор \" + str(v[:,i]))"
   ]
  },
  {
   "cell_type": "markdown",
   "metadata": {},
   "source": [
    "Найдем собственные значения:"
   ]
  },
  {
   "cell_type": "markdown",
   "metadata": {},
   "source": [
    "$det(N - \\lambda \\cdot E) = 0$  \n",
    "\n",
    "$(1 - \\lambda) ^ 2 - 4 =0$\n",
    "\n",
    "Т.е.:  \n",
    "$\\lambda = -1$ или $\\lambda = 3$"
   ]
  },
  {
   "cell_type": "markdown",
   "metadata": {},
   "source": [
    "Найдем собственные вектора:"
   ]
  },
  {
   "cell_type": "markdown",
   "metadata": {},
   "source": [
    "$ N \\cdot x = \\lambda \\cdot x$  \n",
    "\n",
    "\n",
    "\n",
    "При $\\lambda = 3$ \n",
    "\n",
    "$\\begin{pmatrix}\n",
    "  1 & 4\\\\\n",
    "  1 & 1\n",
    "\\end{pmatrix} \n",
    "\\cdot \n",
    "\\begin{pmatrix}\n",
    "  x_1 \\\\\n",
    "  x_2\n",
    "\\end{pmatrix} \n",
    "=\n",
    "3 \\cdot\n",
    "\\begin{pmatrix}\n",
    "  x_1 \\\\\n",
    "  x_2\n",
    "\\end{pmatrix} $\n",
    "\n",
    "$1 \\cdot x_1 + 4 \\cdot x_2 = 3 \\cdot x_1 $\n",
    "\n",
    "$x_1 = 2 \\cdot x_2 $  \n",
    "\n",
    "Тогда:  \n",
    "\n",
    "$x_1 = 2 , x_2 = 1$\n",
    "\n",
    "\n",
    "\n",
    "\n",
    "\n",
    "При $\\lambda = -1$ \n",
    "\n",
    "$\\begin{pmatrix}\n",
    "  1 & 4\\\\\n",
    "  1 & 1\n",
    "\\end{pmatrix} \n",
    "\\cdot \n",
    "\\begin{pmatrix}\n",
    "  x_1 \\\\\n",
    "  x_2\n",
    "\\end{pmatrix} \n",
    "=\n",
    "-1 \\cdot\n",
    "\\begin{pmatrix}\n",
    "  x_1 \\\\\n",
    "  x_2\n",
    "\\end{pmatrix} $\n",
    "\n",
    "$1 \\cdot x_1 + 4 \\cdot x_2 = - x_1 $  \n",
    "\n",
    "$x_1 = -2 \\cdot x_2 $   \n",
    "\n",
    "Тогда:  \n",
    "\n",
    "$x_1 = 2 , x_2 = -1$"
   ]
  },
  {
   "cell_type": "code",
   "execution_count": null,
   "metadata": {},
   "outputs": [],
   "source": []
  }
 ],
 "metadata": {
  "kernelspec": {
   "display_name": "Python 3",
   "language": "python",
   "name": "python3"
  },
  "language_info": {
   "codemirror_mode": {
    "name": "ipython",
    "version": 3
   },
   "file_extension": ".py",
   "mimetype": "text/x-python",
   "name": "python",
   "nbconvert_exporter": "python",
   "pygments_lexer": "ipython3",
   "version": "3.7.6"
  }
 },
 "nbformat": 4,
 "nbformat_minor": 4
}
