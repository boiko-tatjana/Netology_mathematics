{
 "cells": [
  {
   "cell_type": "code",
   "execution_count": 59,
   "metadata": {},
   "outputs": [],
   "source": [
    "import numpy as np\n",
    "from scipy.optimize import approx_fprime\n",
    "from sympy import *\n",
    "import copy\n",
    "from scipy.optimize import minimize"
   ]
  },
  {
   "cell_type": "markdown",
   "metadata": {},
   "source": [
    "### Задание 1"
   ]
  },
  {
   "cell_type": "markdown",
   "metadata": {},
   "source": [
    "Посчитайте частные производные функций (как обычно, необходимо решение на бумажке или в LaTeX и на scipy):\n",
    "\n",
    "1) $f(x,y)=2x^2y^3 + 1/x + y^2x + 7$, а для этой функции также градиент в точке $(1,2)$\n",
    "\n",
    "2) $f(x,y)=x^2y - sin(xy) + cos(x^2) + 6y$"
   ]
  },
  {
   "cell_type": "markdown",
   "metadata": {},
   "source": [
    "1. Для функции $f(x,y)=2x^2y^3 + 1/x + y^2x + 7$ :"
   ]
  },
  {
   "cell_type": "markdown",
   "metadata": {},
   "source": [
    "Решение:\n",
    "1. Найдем частные производные:  \n",
    "\n",
    "$\\frac{\\partial f(x,y)}{\\partial x} = 2\\cdot 2 \\cdot x \\cdot y^3 - \\frac {1}{x^2} + y^2 $  \n",
    "\n",
    "$\\frac{\\partial f(x,y)}{\\partial y} = 2 \\cdot 3 \\cdot x^2 \\cdot y^2 + 2\\cdot y \\cdot x $\n"
   ]
  },
  {
   "cell_type": "code",
   "execution_count": 9,
   "metadata": {},
   "outputs": [],
   "source": [
    "x, y = symbols('x y')\n",
    "f = 2 * x**2 * y**3 + 1/x + y**2 * x + 7"
   ]
  },
  {
   "cell_type": "markdown",
   "metadata": {},
   "source": [
    "Частная производная по x:"
   ]
  },
  {
   "cell_type": "code",
   "execution_count": 11,
   "metadata": {},
   "outputs": [
    {
     "data": {
      "text/latex": [
       "$\\displaystyle 4 x y^{3} + y^{2} - \\frac{1}{x^{2}}$"
      ],
      "text/plain": [
       "4*x*y**3 + y**2 - 1/x**2"
      ]
     },
     "execution_count": 11,
     "metadata": {},
     "output_type": "execute_result"
    }
   ],
   "source": [
    "df_x = diff(f, x)\n",
    "df_x"
   ]
  },
  {
   "cell_type": "markdown",
   "metadata": {},
   "source": [
    "Частная производная по y:"
   ]
  },
  {
   "cell_type": "code",
   "execution_count": 12,
   "metadata": {},
   "outputs": [
    {
     "data": {
      "text/latex": [
       "$\\displaystyle 6 x^{2} y^{2} + 2 x y$"
      ],
      "text/plain": [
       "6*x**2*y**2 + 2*x*y"
      ]
     },
     "execution_count": 12,
     "metadata": {},
     "output_type": "execute_result"
    }
   ],
   "source": [
    "df_y = diff(f, y)\n",
    "df_y"
   ]
  },
  {
   "cell_type": "markdown",
   "metadata": {},
   "source": [
    "2. Найдем значение частных производных в точке (1,2): \n",
    "\n",
    "$\\frac{\\partial f(1,2)}{\\partial x} = 32 - 1 + 4 = 35 $  \n",
    "\n",
    "$\\frac{\\partial f(1,2)}{\\partial y} = 24 + 4 = 28 $"
   ]
  },
  {
   "cell_type": "code",
   "execution_count": 3,
   "metadata": {},
   "outputs": [],
   "source": [
    "vector = (1 , 2)"
   ]
  },
  {
   "cell_type": "code",
   "execution_count": 4,
   "metadata": {},
   "outputs": [],
   "source": [
    "def function(vector):\n",
    "    x = vector[0]\n",
    "    y = vector[1]\n",
    "    f = 2 * x**2 * y**3 + 1/x + y**2 * x + 7\n",
    "    return f"
   ]
  },
  {
   "cell_type": "code",
   "execution_count": 5,
   "metadata": {},
   "outputs": [
    {
     "data": {
      "text/plain": [
       "array([35.00000024, 28.00000024])"
      ]
     },
     "execution_count": 5,
     "metadata": {},
     "output_type": "execute_result"
    }
   ],
   "source": [
    "eps = np.sqrt(np.finfo(float).eps)\n",
    "approx_fprime(vector, function, [eps, eps])"
   ]
  },
  {
   "cell_type": "markdown",
   "metadata": {},
   "source": [
    "2. Для функции $f(x,y)=x^2y - sin(xy) + cos(x^2) + 6y$ :"
   ]
  },
  {
   "cell_type": "markdown",
   "metadata": {},
   "source": [
    "Решение:  \n",
    "Найдем частные производные:  \n",
    "\n",
    "$\\frac{\\partial f(x,y)}{\\partial x} = 2\\cdot  x\\cdot  y - cos(x\\cdot y)\\cdot y - sin(x^2) \\cdot 2 \n",
    "\\cdot x $ \n",
    "\n",
    "$\\frac{\\partial f(x,y)}{\\partial y} = x^2 - cos(x\\cdot y)\\cdot x + 6 $"
   ]
  },
  {
   "cell_type": "code",
   "execution_count": 14,
   "metadata": {},
   "outputs": [],
   "source": [
    "f = x ** 2 * y - sin(x * y) + cos(x ** 2) + 6 * y"
   ]
  },
  {
   "cell_type": "markdown",
   "metadata": {},
   "source": [
    "Частная производная по x:"
   ]
  },
  {
   "cell_type": "code",
   "execution_count": 15,
   "metadata": {},
   "outputs": [
    {
     "data": {
      "text/latex": [
       "$\\displaystyle 2 x y - 2 x \\sin{\\left(x^{2} \\right)} - y \\cos{\\left(x y \\right)}$"
      ],
      "text/plain": [
       "2*x*y - 2*x*sin(x**2) - y*cos(x*y)"
      ]
     },
     "execution_count": 15,
     "metadata": {},
     "output_type": "execute_result"
    }
   ],
   "source": [
    "df_x = diff(f, x)\n",
    "df_x"
   ]
  },
  {
   "cell_type": "markdown",
   "metadata": {},
   "source": [
    "Частная производная по y:"
   ]
  },
  {
   "cell_type": "code",
   "execution_count": 16,
   "metadata": {},
   "outputs": [
    {
     "data": {
      "text/latex": [
       "$\\displaystyle x^{2} - x \\cos{\\left(x y \\right)} + 6$"
      ],
      "text/plain": [
       "x**2 - x*cos(x*y) + 6"
      ]
     },
     "execution_count": 16,
     "metadata": {},
     "output_type": "execute_result"
    }
   ],
   "source": [
    "df_y = diff(f, y)\n",
    "df_y"
   ]
  },
  {
   "cell_type": "markdown",
   "metadata": {},
   "source": [
    "### Задание 2"
   ]
  },
  {
   "cell_type": "markdown",
   "metadata": {},
   "source": [
    "Градиентный спуск своими руками"
   ]
  },
  {
   "cell_type": "code",
   "execution_count": 62,
   "metadata": {},
   "outputs": [],
   "source": [
    "def g(x):\n",
    "    return (x[0]**2) + (x[1]**2)"
   ]
  },
  {
   "cell_type": "code",
   "execution_count": 63,
   "metadata": {},
   "outputs": [],
   "source": [
    "x = np.array([100, 200])\n",
    "learning_rate = 0.1"
   ]
  },
  {
   "cell_type": "code",
   "execution_count": 64,
   "metadata": {},
   "outputs": [],
   "source": [
    "a, b = symbols('a b')\n",
    "f = a**2 + b**2"
   ]
  },
  {
   "cell_type": "code",
   "execution_count": 65,
   "metadata": {},
   "outputs": [
    {
     "data": {
      "text/plain": [
       "(2*a, 2*b)"
      ]
     },
     "execution_count": 65,
     "metadata": {},
     "output_type": "execute_result"
    }
   ],
   "source": [
    "df_a = diff(f, a)\n",
    "df_b = diff(f, b)\n",
    "df_a, df_b"
   ]
  },
  {
   "cell_type": "code",
   "execution_count": 66,
   "metadata": {},
   "outputs": [],
   "source": [
    "x1 = copy.copy(x)"
   ]
  },
  {
   "cell_type": "code",
   "execution_count": 67,
   "metadata": {},
   "outputs": [
    {
     "name": "stdout",
     "output_type": "stream",
     "text": [
      "x[0] =  100 \t x[1] =  200\n",
      "x[0] =  64 \t x[1] =  128\n",
      "x[0] =  51 \t x[1] =  102\n",
      "x[0] =  40 \t x[1] =  81\n",
      "x[0] =  32 \t x[1] =  64\n",
      "x[0] =  25 \t x[1] =  51\n",
      "x[0] =  20 \t x[1] =  40\n",
      "x[0] =  16 \t x[1] =  32\n",
      "x[0] =  12 \t x[1] =  25\n",
      "x[0] =  9 \t x[1] =  20\n",
      "x[0] =  7 \t x[1] =  16\n",
      "x[0] =  5 \t x[1] =  12\n",
      "x[0] =  4 \t x[1] =  9\n",
      "x[0] =  3 \t x[1] =  7\n",
      "x[0] =  2 \t x[1] =  5\n",
      "x[0] =  1 \t x[1] =  4\n",
      "x[0] =  0 \t x[1] =  3\n",
      "x[0] =  0 \t x[1] =  2\n",
      "x[0] =  0 \t x[1] =  1\n",
      "x[0] =  0 \t x[1] =  0\n",
      "x[0] =  0 \t x[1] =  0\n",
      "x[0] =  0 \t x[1] =  0\n",
      "x[0] =  0 \t x[1] =  0\n",
      "x[0] =  0 \t x[1] =  0\n",
      "x[0] =  0 \t x[1] =  0\n",
      "x[0] =  0 \t x[1] =  0\n",
      "x[0] =  0 \t x[1] =  0\n",
      "x[0] =  0 \t x[1] =  0\n",
      "x[0] =  0 \t x[1] =  0\n",
      "x[0] =  0 \t x[1] =  0\n",
      "x[0] =  0 \t x[1] =  0\n",
      "x[0] =  0 \t x[1] =  0\n",
      "x[0] =  0 \t x[1] =  0\n",
      "x[0] =  0 \t x[1] =  0\n",
      "x[0] =  0 \t x[1] =  0\n",
      "x[0] =  0 \t x[1] =  0\n",
      "x[0] =  0 \t x[1] =  0\n",
      "x[0] =  0 \t x[1] =  0\n",
      "x[0] =  0 \t x[1] =  0\n",
      "x[0] =  0 \t x[1] =  0\n",
      "x[0] =  0 \t x[1] =  0\n",
      "x[0] =  0 \t x[1] =  0\n",
      "x[0] =  0 \t x[1] =  0\n",
      "x[0] =  0 \t x[1] =  0\n",
      "x[0] =  0 \t x[1] =  0\n",
      "x[0] =  0 \t x[1] =  0\n",
      "x[0] =  0 \t x[1] =  0\n",
      "x[0] =  0 \t x[1] =  0\n",
      "x[0] =  0 \t x[1] =  0\n",
      "x[0] =  0 \t x[1] =  0\n",
      "x[0] =  0 \t x[1] =  0\n",
      "x[0] =  0 \t x[1] =  0\n",
      "x[0] =  0 \t x[1] =  0\n",
      "x[0] =  0 \t x[1] =  0\n",
      "x[0] =  0 \t x[1] =  0\n",
      "x[0] =  0 \t x[1] =  0\n",
      "x[0] =  0 \t x[1] =  0\n",
      "x[0] =  0 \t x[1] =  0\n",
      "x[0] =  0 \t x[1] =  0\n",
      "x[0] =  0 \t x[1] =  0\n",
      "x[0] =  0 \t x[1] =  0\n",
      "x[0] =  0 \t x[1] =  0\n",
      "x[0] =  0 \t x[1] =  0\n",
      "x[0] =  0 \t x[1] =  0\n",
      "x[0] =  0 \t x[1] =  0\n",
      "x[0] =  0 \t x[1] =  0\n",
      "x[0] =  0 \t x[1] =  0\n",
      "x[0] =  0 \t x[1] =  0\n",
      "x[0] =  0 \t x[1] =  0\n",
      "x[0] =  0 \t x[1] =  0\n",
      "x[0] =  0 \t x[1] =  0\n",
      "x[0] =  0 \t x[1] =  0\n",
      "x[0] =  0 \t x[1] =  0\n",
      "x[0] =  0 \t x[1] =  0\n",
      "x[0] =  0 \t x[1] =  0\n",
      "x[0] =  0 \t x[1] =  0\n",
      "x[0] =  0 \t x[1] =  0\n",
      "x[0] =  0 \t x[1] =  0\n",
      "x[0] =  0 \t x[1] =  0\n",
      "x[0] =  0 \t x[1] =  0\n",
      "x[0] =  0 \t x[1] =  0\n",
      "x[0] =  0 \t x[1] =  0\n",
      "x[0] =  0 \t x[1] =  0\n",
      "x[0] =  0 \t x[1] =  0\n",
      "x[0] =  0 \t x[1] =  0\n",
      "x[0] =  0 \t x[1] =  0\n",
      "x[0] =  0 \t x[1] =  0\n",
      "x[0] =  0 \t x[1] =  0\n",
      "x[0] =  0 \t x[1] =  0\n",
      "x[0] =  0 \t x[1] =  0\n",
      "x[0] =  0 \t x[1] =  0\n",
      "x[0] =  0 \t x[1] =  0\n",
      "x[0] =  0 \t x[1] =  0\n",
      "x[0] =  0 \t x[1] =  0\n",
      "x[0] =  0 \t x[1] =  0\n",
      "x[0] =  0 \t x[1] =  0\n",
      "x[0] =  0 \t x[1] =  0\n",
      "x[0] =  0 \t x[1] =  0\n",
      "x[0] =  0 \t x[1] =  0\n",
      "x[0] =  0 \t x[1] =  0\n"
     ]
    }
   ],
   "source": [
    "for i in range(100):\n",
    "    # Calculate gradient\n",
    "    grad = np.array([2*x[0], 2*x[1]])\n",
    "    \n",
    "    # Update x with gradient\n",
    "    x1[0] = x[0] - learning_rate * grad[0]\n",
    "    x1[1] = x[1] - learning_rate * grad[1]\n",
    "    print('x[0] = ', x[0],'\\t x[1] = ', x[1])\n",
    "    x = x1"
   ]
  },
  {
   "cell_type": "code",
   "execution_count": 58,
   "metadata": {},
   "outputs": [
    {
     "name": "stdout",
     "output_type": "stream",
     "text": [
      "Минимум достигается в:  [0 0]\n",
      "Значение функции в минимуме:  0\n"
     ]
    }
   ],
   "source": [
    "print(\"Минимум достигается в: \", x)\n",
    "print(\"Значение функции в минимуме: \", g(x))"
   ]
  },
  {
   "cell_type": "markdown",
   "metadata": {},
   "source": [
    "Проверка с помощью встроенной функции numpy:"
   ]
  },
  {
   "cell_type": "code",
   "execution_count": 60,
   "metadata": {},
   "outputs": [
    {
     "name": "stdout",
     "output_type": "stream",
     "text": [
      "Optimization terminated successfully.\n",
      "         Current function value: 0.000000\n",
      "         Iterations: 72\n",
      "         Function evaluations: 138\n"
     ]
    }
   ],
   "source": [
    "res = minimize(g, [100, 200], method = 'nelder-mead', options = {'xtol': 1e-6, 'disp': True})"
   ]
  }
 ],
 "metadata": {
  "kernelspec": {
   "display_name": "Python 3",
   "language": "python",
   "name": "python3"
  },
  "language_info": {
   "codemirror_mode": {
    "name": "ipython",
    "version": 3
   },
   "file_extension": ".py",
   "mimetype": "text/x-python",
   "name": "python",
   "nbconvert_exporter": "python",
   "pygments_lexer": "ipython3",
   "version": "3.7.6"
  }
 },
 "nbformat": 4,
 "nbformat_minor": 4
}
